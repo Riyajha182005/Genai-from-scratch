{
 "cells": [
  {
   "cell_type": "code",
   "execution_count": 4,
   "id": "2a21484d",
   "metadata": {},
   "outputs": [
    {
     "name": "stdout",
     "output_type": "stream",
     "text": [
      "['riya', 'kittu', 'Prapti', 1, 2, 2]\n"
     ]
    }
   ],
   "source": [
    "\n",
    "##lists\n",
    "names=[\"riya\",\"kittu\",\"Prapti\",1,2,2]\n",
    "print(names)"
   ]
  },
  {
   "cell_type": "code",
   "execution_count": 5,
   "id": "cb530fac",
   "metadata": {},
   "outputs": [
    {
     "data": {
      "text/plain": [
       "['Prapti', 1, 2]"
      ]
     },
     "execution_count": 5,
     "metadata": {},
     "output_type": "execute_result"
    }
   ],
   "source": [
    "##accessing the elements in lists\n",
    "names[2:5]"
   ]
  },
  {
   "cell_type": "code",
   "execution_count": 6,
   "id": "74fd3283",
   "metadata": {},
   "outputs": [
    {
     "name": "stdout",
     "output_type": "stream",
     "text": [
      "['riya', 'kittu', 'Divya-Rawat', 1, 2, 2]\n"
     ]
    }
   ],
   "source": [
    "##modifying the elements\n",
    "names[2]=\"Divya-Rawat\"\n",
    "print(names)\n"
   ]
  },
  {
   "cell_type": "code",
   "execution_count": 5,
   "id": "bb1bda65",
   "metadata": {},
   "outputs": [
    {
     "name": "stdout",
     "output_type": "stream",
     "text": [
      "['riya', 'kittu', 'Divya-Rawat', 1, 2, 2, 'Gayu']\n"
     ]
    }
   ],
   "source": [
    "##some cool features or we can say methods  we are having in lists \n",
    "## 1.append\n",
    "names.append(\"Gayu\")\n",
    "print(names)"
   ]
  },
  {
   "cell_type": "code",
   "execution_count": 6,
   "id": "9e394c09",
   "metadata": {},
   "outputs": [
    {
     "name": "stdout",
     "output_type": "stream",
     "text": [
      "['riya', 'kittu', 'preeti', 'Divya-Rawat', 1, 2, 2, 'Gayu']\n"
     ]
    }
   ],
   "source": [
    "names.insert(2,\"preeti\")\n",
    "print(names)"
   ]
  },
  {
   "cell_type": "code",
   "execution_count": 9,
   "id": "bda3d3d5",
   "metadata": {},
   "outputs": [
    {
     "name": "stdout",
     "output_type": "stream",
     "text": [
      "0\n",
      "2\n"
     ]
    }
   ],
   "source": [
    "## now lets try some methods\n",
    "index=names.index(\"riya\")\n",
    "print(index)\n",
    "names.insert(3,\"preeti\")\n",
    "no_count=names.count(\"preeti\")\n",
    "print(no_count)"
   ]
  },
  {
   "cell_type": "code",
   "execution_count": 14,
   "id": "9da869d8",
   "metadata": {},
   "outputs": [
    {
     "name": "stdout",
     "output_type": "stream",
     "text": [
      "['Divya-Rawat', 'kittu', 'preeti', 'preeti', 'riya', 'Gayu']\n"
     ]
    }
   ],
   "source": [
    "\n",
    "names.remove(2)\n",
    "names.remove(2)\n",
    "print(names)"
   ]
  },
  {
   "cell_type": "code",
   "execution_count": 15,
   "metadata": {},
   "outputs": [
    {
     "name": "stdout",
     "output_type": "stream",
     "text": [
      "['Divya-Rawat', 'Gayu', 'kittu', 'preeti', 'preeti', 'riya']\n",
      "['riya', 'preeti', 'preeti', 'kittu', 'Gayu', 'Divya-Rawat']\n"
     ]
    }
   ],
   "source": [
    "names.sort()\n",
    "print(names)\n",
    "reverse=names.reverse()\n",
    "print(names)"
   ]
  },
  {
   "cell_type": "code",
   "execution_count": 20,
   "id": "6116d04b",
   "metadata": {},
   "outputs": [
    {
     "name": "stdout",
     "output_type": "stream",
     "text": [
      "[3, 4, 67]\n",
      "[1, 2, 3]\n",
      "[77, 3]\n"
     ]
    }
   ],
   "source": [
    "###Slicing the list elements\n",
    "arr=[1,2,3,4,67,77]\n",
    "print(arr[2:5])\n",
    "print(arr[:3])\n",
    "print(arr[::-3])"
   ]
  },
  {
   "cell_type": "code",
   "execution_count": null,
   "id": "9e5be3d1",
   "metadata": {},
   "outputs": [
    {
     "name": "stdout",
     "output_type": "stream",
     "text": [
      "1\n",
      "2\n",
      "3\n",
      "4\n",
      "67\n",
      "77\n",
      "0 1\n",
      "1 2\n",
      "2 3\n",
      "3 4\n",
      "4 67\n",
      "5 77\n"
     ]
    }
   ],
   "source": [
    "##traversing the list\n",
    "for i in arr:\n",
    "    print(i)\n"
   ]
  },
  {
   "cell_type": "code",
   "execution_count": 24,
   "id": "011f74fe",
   "metadata": {},
   "outputs": [
    {
     "name": "stdout",
     "output_type": "stream",
     "text": [
      "0 1\n",
      "1 2\n",
      "2 3\n",
      "3 4\n",
      "4 67\n",
      "5 77\n"
     ]
    }
   ],
   "source": [
    "## traversing the list wit the index\n",
    "for index,i in enumerate(arr):\n",
    "    print(index,i)"
   ]
  },
  {
   "cell_type": "code",
   "execution_count": 34,
   "id": "0d2ee9d8",
   "metadata": {},
   "outputs": [
    {
     "name": "stdout",
     "output_type": "stream",
     "text": [
      "[0, 1, 4, 9, 16, 25, 36, 49, 64, 81, 100]\n"
     ]
    }
   ],
   "source": [
    "## some cool examples\n",
    "## squares of numbers \n",
    "num=[]\n",
    "for i in range(11):\n",
    "    num.append(i*i) \n",
    "print(num)\n",
    "\n"
   ]
  },
  {
   "cell_type": "code",
   "execution_count": 36,
   "id": "5c0c7915",
   "metadata": {},
   "outputs": [
    {
     "name": "stdout",
     "output_type": "stream",
     "text": [
      "[0, 1, 8, 27, 64, 125, 216, 343, 512, 729, 1000]\n"
     ]
    }
   ],
   "source": [
    "    ## LIST COMPREHENSION\n",
    "\n",
    "## now how I can write this in a single line of code \n",
    "## PYTHON-->SUPERMACY\n",
    "num=[i**3 for  i in range(11)]\n",
    "print(num)"
   ]
  },
  {
   "cell_type": "code",
   "execution_count": null,
   "id": "76307c67",
   "metadata": {},
   "outputs": [
    {
     "name": "stdout",
     "output_type": "stream",
     "text": [
      "[0, 2, 4, 6, 8]\n",
      "[0, 2, 4, 6, 8]\n"
     ]
    }
   ],
   "source": [
    "## SOME MORE EXAMPLES\n",
    "lst=[]\n",
    "for i in range(10):\n",
    "    if(i%2==0):\n",
    "        lst.append(i)\n",
    "print(lst)\n",
    "## same thing with using list comprehension \n",
    "lst=[i for i in range(10) if i%2==0 ]\n",
    "print(lst)\n",
    "## cool is'nt?"
   ]
  },
  {
   "cell_type": "code",
   "execution_count": 40,
   "id": "40bb1ae4",
   "metadata": {},
   "outputs": [
    {
     "name": "stdout",
     "output_type": "stream",
     "text": [
      "[[1, 'a'], [1, 'b'], [1, 'c'], [1, 'd'], [2, 'a'], [2, 'b'], [2, 'c'], [2, 'd'], [3, 'a'], [3, 'b'], [3, 'c'], [3, 'd'], [4, 'a'], [4, 'b'], [4, 'c'], [4, 'd']]\n"
     ]
    }
   ],
   "source": [
    "# Nested List comprehension\n",
    "num1=[1,2,3,4] \n",
    "num2=['a','b','c','d']\n",
    "pair=[[i,j] for i in num1 for j in num2]\n",
    "print (pair)"
   ]
  },
  {
   "cell_type": "code",
   "execution_count": 42,
   "id": "9501ef1f",
   "metadata": {},
   "outputs": [
    {
     "name": "stdout",
     "output_type": "stream",
     "text": [
      "[1, 1, 1, 1]\n"
     ]
    }
   ],
   "source": [
    "\n",
    "## some inbuilt functions\n",
    "length=[len(i) for i in num2]\n",
    "print(length)"
   ]
  },
  {
   "cell_type": "markdown",
   "id": "77f989fb",
   "metadata": {},
   "source": [
    "Tuple Data Structure"
   ]
  },
  {
   "cell_type": "code",
   "execution_count": 43,
   "id": "734d74a3",
   "metadata": {},
   "outputs": [
    {
     "name": "stdout",
     "output_type": "stream",
     "text": [
      "<class 'tuple'>\n"
     ]
    }
   ],
   "source": [
    "num=()\n",
    "print(type(num))"
   ]
  },
  {
   "cell_type": "code",
   "execution_count": null,
   "id": "04cf62d7",
   "metadata": {},
   "outputs": [
    {
     "name": "stdout",
     "output_type": "stream",
     "text": [
      "<class 'list'>\n",
      "<class 'tuple'>\n"
     ]
    }
   ],
   "source": [
    "\n",
    "## declaring and defining the tuple \n",
    "lst=list()\n",
    "print(type(lst))\n",
    "tup=tuple()\n",
    "print(type(tup))"
   ]
  },
  {
   "cell_type": "code",
   "execution_count": 2,
   "id": "7a3d3033",
   "metadata": {},
   "outputs": [
    {
     "name": "stdout",
     "output_type": "stream",
     "text": [
      "(1, 2, 3, 4, 5)\n",
      "(4, 5)\n",
      "(1, 2, 3, 4, 5, 'riya')\n",
      "('riya', 'riya', 'riya', 'riya')\n"
     ]
    }
   ],
   "source": [
    "## slicing operation in tuple \n",
    "tup=tuple([1,2,3,4,5])\n",
    "tup2=tuple([\"riya\"])\n",
    "\n",
    "print(tup)\n",
    "print(tup[3:])\n",
    "print(tup+tup2)\n",
    "print(tup2*4)"
   ]
  },
  {
   "cell_type": "markdown",
   "id": "b23238b8",
   "metadata": {},
   "source": [
    "immutable Nature of tuple"
   ]
  },
  {
   "cell_type": "code",
   "execution_count": 56,
   "id": "081891fe",
   "metadata": {},
   "outputs": [
    {
     "ename": "TypeError",
     "evalue": "'tuple' object does not support item assignment",
     "output_type": "error",
     "traceback": [
      "\u001b[31m---------------------------------------------------------------------------\u001b[39m",
      "\u001b[31mTypeError\u001b[39m                                 Traceback (most recent call last)",
      "\u001b[36mCell\u001b[39m\u001b[36m \u001b[39m\u001b[32mIn[56]\u001b[39m\u001b[32m, line 2\u001b[39m\n\u001b[32m      1\u001b[39m \u001b[38;5;66;03m### tuples are immutable it means once we assoign the value we cant change it unlike list\u001b[39;00m\n\u001b[32m----> \u001b[39m\u001b[32m2\u001b[39m \u001b[43mtup\u001b[49m\u001b[43m[\u001b[49m\u001b[32;43m0\u001b[39;49m\u001b[43m]\u001b[49m=\u001b[33m\"\u001b[39m\u001b[33mriya\u001b[39m\u001b[33m\"\u001b[39m\n\u001b[32m      3\u001b[39m \u001b[38;5;66;03m##see the error \u001b[39;00m\n",
      "\u001b[31mTypeError\u001b[39m: 'tuple' object does not support item assignment"
     ]
    }
   ],
   "source": [
    "### tuples are immutable it means once we assoign the value we cant change it unlike list\n",
    "tup[0]=\"riya\"\n",
    "##see the error "
   ]
  },
  {
   "cell_type": "code",
   "execution_count": 5,
   "id": "c733f8a5",
   "metadata": {},
   "outputs": [
    {
     "name": "stdout",
     "output_type": "stream",
     "text": [
      "1\n"
     ]
    }
   ],
   "source": [
    "#### Tuple methods \n",
    "print(tup.count(1))"
   ]
  },
  {
   "cell_type": "markdown",
   "id": "d1043b1c",
   "metadata": {},
   "source": [
    "Packaging and unpackaging Tuple"
   ]
  },
  {
   "cell_type": "code",
   "execution_count": 8,
   "id": "e0465765",
   "metadata": {},
   "outputs": [
    {
     "name": "stdout",
     "output_type": "stream",
     "text": [
      "(1, 'RiyaJha', 3.24)\n",
      "1\n",
      "RiyaJha\n",
      "3.24\n"
     ]
    }
   ],
   "source": [
    "## packaging\n",
    "number=1,\"RiyaJha\",3.24\n",
    "print(number)\n",
    "#unpack\n",
    "a,b,c=number\n",
    "print(a)\n",
    "print(b)\n",
    "print(c)"
   ]
  },
  {
   "cell_type": "markdown",
   "id": "dbec8fcb",
   "metadata": {},
   "source": [
    "Dictionary Data Structure\n",
    "Dictionary is basically an unordered collection of items"
   ]
  },
  {
   "cell_type": "code",
   "execution_count": 1,
   "id": "d25a45fa",
   "metadata": {},
   "outputs": [
    {
     "name": "stdout",
     "output_type": "stream",
     "text": [
      "<class 'dict'>\n"
     ]
    }
   ],
   "source": [
    "##HOW TO CREATE A DICTIONARY \n",
    "city={}\n",
    "print(type(city))"
   ]
  },
  {
   "cell_type": "code",
   "execution_count": 17,
   "id": "ea4f0fe1",
   "metadata": {},
   "outputs": [
    {
     "name": "stdout",
     "output_type": "stream",
     "text": [
      "{'Delhi': '78', 'Mumbai': '98'}\n"
     ]
    }
   ],
   "source": [
    "## defining the elemement in dictionary \n",
    "city={\"Delhi\":\"78\",\"Mumbai\":\"98\"}\n",
    "print(city)\n",
    "## the key always be a unique name\n"
   ]
  },
  {
   "cell_type": "code",
   "execution_count": null,
   "id": "e6a9bb08",
   "metadata": {},
   "outputs": [
    {
     "name": "stdout",
     "output_type": "stream",
     "text": [
      "78\n",
      "78\n"
     ]
    }
   ],
   "source": [
    "##Acessing the dictonary elemnents\n",
    "print(city[\"Delhi\"])## first way \n",
    "print(city.get('Delhi'))## secomnd way using get keyword "
   ]
  },
  {
   "cell_type": "code",
   "execution_count": 9,
   "id": "d3b6b2ee",
   "metadata": {},
   "outputs": [
    {
     "name": "stdout",
     "output_type": "stream",
     "text": [
      "{'Delhi': 45, 'Munmbai': '98'}\n",
      "{'Delhi': 45, 'Munmbai': '98', 'Goa': 90}\n"
     ]
    }
   ],
   "source": [
    "## Modifying the dictionary element\n",
    "city[\"Delhi\"]=45\n",
    "print(city)\n",
    "## adding the new key in the dict\n",
    "city[(\"Goa\")]=90\n",
    "print(city)"
   ]
  },
  {
   "cell_type": "code",
   "execution_count": 10,
   "id": "03a39089",
   "metadata": {},
   "outputs": [
    {
     "name": "stdout",
     "output_type": "stream",
     "text": [
      "{'Delhi': 45, 'Munmbai': '98'}\n"
     ]
    }
   ],
   "source": [
    "## DELETE THE ENTIRE KEY VALUE PAIR IN  DICTIONARY \n",
    "del city['Goa']\n",
    "print(city)"
   ]
  },
  {
   "cell_type": "code",
   "execution_count": 12,
   "id": "dd824cda",
   "metadata": {},
   "outputs": [
    {
     "name": "stdout",
     "output_type": "stream",
     "text": [
      "dict_keys(['Delhi', 'Munmbai'])\n",
      "dict_values([45, '98'])\n",
      "dict_items([('Delhi', 45), ('Munmbai', '98')])\n"
     ]
    }
   ],
   "source": [
    "# DICTIONARY METHODS #\n",
    "#--- for getting the key \n",
    "keys=city.keys()\n",
    "print(keys)\n",
    "#--- for getting the values\n",
    "values=city.values()\n",
    "print(values)\n",
    "##---- for getting the key value pairs\n",
    "items=city.items()\n",
    "print(items)\n"
   ]
  },
  {
   "cell_type": "code",
   "execution_count": null,
   "id": "c03c67c0",
   "metadata": {},
   "outputs": [
    {
     "name": "stdout",
     "output_type": "stream",
     "text": [
      "{'Delhi': 45, 'Munmbai': '98'}\n",
      "{'Delhi': 45, 'Munmbai': '98'}\n",
      "{'Delhi': 90, 'Munmbai': '98'}\n",
      "{'Delhi': 90, 'Munmbai': '98'}\n"
     ]
    }
   ],
   "source": [
    "## now let s lerarn about the shallow copy \n",
    "# lets take ome example\n",
    "city_copy=city\n",
    "print(city)\n",
    "print(city_copy) \n",
    "## noe let me modify the value in actual city  dict\n",
    "city[\"Delhi\"]=90\n",
    "print(city)\n",
    "print(city_copy)\n",
    "## exactly thats the problem the copy is also changed its  \n",
    "# value with respect to the the actually city dict\n"
   ]
  },
  {
   "cell_type": "code",
   "execution_count": 18,
   "id": "9b753298",
   "metadata": {},
   "outputs": [
    {
     "name": "stdout",
     "output_type": "stream",
     "text": [
      "{'Delhi': '78', 'Mumbai': 23}\n",
      "{'Delhi': '78', 'Mumbai': '98'}\n"
     ]
    }
   ],
   "source": [
    "## how to create a actual copy \n",
    "city1_copy=city.copy()\n",
    "## now lets again modify the city value\n",
    "city[\"Mumbai\"]=23\n",
    "print(city)\n",
    "print(city1_copy)"
   ]
  },
  {
   "cell_type": "code",
   "execution_count": 22,
   "id": "2ac0fbdf",
   "metadata": {},
   "outputs": [
    {
     "name": "stdout",
     "output_type": "stream",
     "text": [
      "KEYS\n",
      "Delhi\n",
      "Mumbai\n",
      "VALUES\n",
      "78\n",
      "23\n",
      "Delhi:78\n",
      "Mumbai:23\n"
     ]
    }
   ],
   "source": [
    "## iterayte usinf for loop in dict\n",
    "## for keys\n",
    "print(\"KEYS\")\n",
    "for key in city.keys():\n",
    "    print(key)\n",
    "## for values\n",
    "print(\"VALUES\")\n",
    "for value in city.values():\n",
    "    print(value)\n",
    "## for items- key value pairs \n",
    "for key, value in city.items():\n",
    "    print(f\"{key}:{value}\")"
   ]
  },
  {
   "cell_type": "markdown",
   "id": "ce9ff7f0",
   "metadata": {},
   "source": [
    "NESTED DICTIONARY"
   ]
  },
  {
   "cell_type": "code",
   "execution_count": 24,
   "id": "545a6bc4",
   "metadata": {},
   "outputs": [
    {
     "name": "stdout",
     "output_type": "stream",
     "text": [
      "{'students': {'Name': 'Riya', 'Age': 19}, 'Teachers': {'Name': 'Shalini', 'Age': 29}}\n"
     ]
    }
   ],
   "source": [
    "college={\n",
    "    \"students\":{\"Name\":\"Riya\",\"Age\":19},\n",
    "    \"Teachers\":{\"Name\":\"Shalini\",\"Age\":29}\n",
    "}\n",
    "print(college)"
   ]
  },
  {
   "cell_type": "code",
   "execution_count": 25,
   "id": "409665ae",
   "metadata": {},
   "outputs": [
    {
     "name": "stdout",
     "output_type": "stream",
     "text": [
      "Riya\n",
      "Shalini\n"
     ]
    }
   ],
   "source": [
    "## accessing the elements\n",
    "print(college[\"students\"][\"Name\"])\n",
    "print(college[\"Teachers\"][\"Name\"])"
   ]
  },
  {
   "cell_type": "code",
   "execution_count": 28,
   "id": "e5bcc072",
   "metadata": {},
   "outputs": [
    {
     "name": "stdout",
     "output_type": "stream",
     "text": [
      "students:{'Name': 'Riya', 'Age': 19}\n",
      "Name:Riya\n",
      "Age:19\n",
      "Teachers:{'Name': 'Shalini', 'Age': 29}\n",
      "Name:Shalini\n",
      "Age:29\n"
     ]
    }
   ],
   "source": [
    "## ITERATING OVER NESTED DICT\n",
    "for college_id,college_info in college.items():\n",
    "    print(f\"{college_id}:{college_info}\")\n",
    "    for key,value in college_info.items():\n",
    "        print(f\"{key}:{value}\")"
   ]
  },
  {
   "cell_type": "code",
   "execution_count": 32,
   "id": "a810a035",
   "metadata": {},
   "outputs": [
    {
     "name": "stdout",
     "output_type": "stream",
     "text": [
      "{1: 1, 3: 9, 5: 25, 7: 49, 9: 81}\n"
     ]
    }
   ],
   "source": [
    "## Dictionary comprehension \n",
    "squares={z:z**2 for z in range(10)  if z%2!=0}\n",
    "print(squares)"
   ]
  },
  {
   "cell_type": "code",
   "execution_count": 33,
   "id": "705d1f1f",
   "metadata": {},
   "outputs": [
    {
     "name": "stdout",
     "output_type": "stream",
     "text": [
      "{1: 2, 2: 2, 4: 4}\n"
     ]
    }
   ],
   "source": [
    "numbers=[1,1,2,2,4,4,4,4]\n",
    "freq={}\n",
    "\n",
    "for number in numbers:\n",
    "    if number in freq:\n",
    "       freq[number]+=1\n",
    "    else:\n",
    "        freq[number]=1\n",
    "print(freq)"
   ]
  }
 ],
 "metadata": {
  "kernelspec": {
   "display_name": "Python 3",
   "language": "python",
   "name": "python3"
  },
  "language_info": {
   "codemirror_mode": {
    "name": "ipython",
    "version": 3
   },
   "file_extension": ".py",
   "mimetype": "text/x-python",
   "name": "python",
   "nbconvert_exporter": "python",
   "pygments_lexer": "ipython3",
   "version": "3.12.0"
  }
 },
 "nbformat": 4,
 "nbformat_minor": 5
}
