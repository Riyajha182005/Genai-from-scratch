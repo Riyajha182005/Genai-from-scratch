{
 "cells": [
  {
   "cell_type": "markdown",
   "id": "4bf6b016",
   "metadata": {},
   "source": [
    "Functions\n",
    "\n"
   ]
  },
  {
   "cell_type": "markdown",
   "id": "0c74c744",
   "metadata": {},
   "source": [
    "A function is a block of code that performs a specific task . Function  help in organizing code ,reusing code  and improving readablity."
   ]
  },
  {
   "cell_type": "code",
   "execution_count": null,
   "id": "2449536e",
   "metadata": {},
   "outputs": [],
   "source": [
    "#### Syntax\n",
    "def function_name(paramater):\n",
    "    \"\"\" doc string \"\"\"\n",
    "    ## function body \n",
    "     ## return expression"
   ]
  },
  {
   "cell_type": "code",
   "execution_count": 1,
   "id": "ce349bce",
   "metadata": {},
   "outputs": [],
   "source": [
    "def even_or_odd (num):\n",
    "    if num%2==0:\n",
    "        print(\"Even Number\")\n",
    "    else:\n",
    "        print(\"Odd Number\")\n",
    "    "
   ]
  },
  {
   "cell_type": "code",
   "execution_count": 2,
   "metadata": {},
   "outputs": [
    {
     "name": "stdout",
     "output_type": "stream",
     "text": [
      "Even Number\n"
     ]
    }
   ],
   "source": [
    "even_or_odd(90)"
   ]
  },
  {
   "cell_type": "code",
   "execution_count": 4,
   "id": "28452725",
   "metadata": {},
   "outputs": [
    {
     "name": "stdout",
     "output_type": "stream",
     "text": [
      "HELLO ! Riya JHA\n"
     ]
    }
   ],
   "source": [
    "def greeting(name):\n",
    "    print(f\"HELLO ! {name}\")\n",
    "greeting(\"Riya JHA\")\n"
   ]
  },
  {
   "cell_type": "code",
   "execution_count": 6,
   "metadata": {},
   "outputs": [
    {
     "name": "stdout",
     "output_type": "stream",
     "text": [
      "1\n",
      "2\n",
      "4\n",
      "Riya\n"
     ]
    }
   ],
   "source": [
    "## Positional Arguments\n",
    "def print_arg(*args):\n",
    "    for number in args:\n",
    "     print(number)\n",
    "print_arg(1,2,4,\"Riya\")"
   ]
  },
  {
   "cell_type": "code",
   "execution_count": 8,
   "id": "0cea9d59",
   "metadata": {},
   "outputs": [
    {
     "name": "stdout",
     "output_type": "stream",
     "text": [
      "name:Riya Jha\n",
      "course:Btech\n",
      "city:Noida\n",
      "age:20\n"
     ]
    }
   ],
   "source": [
    "##keyword Arguements \n",
    "def print_dict_ele(**keyargs):\n",
    "    for key,value in keyargs.items():\n",
    "        print(f\"{key}:{value}\")\n",
    "## Giving output\n",
    "print_dict_ele(name=\"Riya Jha\",course=\"Btech\",city=\"Noida\",age=20)\n"
   ]
  },
  {
   "cell_type": "code",
   "execution_count": 10,
   "id": "2d9b4722",
   "metadata": {},
   "outputs": [
    {
     "data": {
      "text/plain": [
       "6"
      ]
     },
     "execution_count": 10,
     "metadata": {},
     "output_type": "execute_result"
    }
   ],
   "source": [
    "## Mulitiply Function\n",
    "def mul(a,b):\n",
    "    return a*b\n",
    "a=int(input())\n",
    "b=int(input())\n",
    "mul(a,b)"
   ]
  },
  {
   "cell_type": "markdown",
   "id": "d5faabd4",
   "metadata": {},
   "source": [
    "Functions Real Life Examples"
   ]
  },
  {
   "cell_type": "code",
   "execution_count": 13,
   "id": "ee2fd017",
   "metadata": {},
   "outputs": [
    {
     "name": "stdout",
     "output_type": "stream",
     "text": [
      "212.0\n",
      "68.55555555555556\n"
     ]
    }
   ],
   "source": [
    "## Temperature Conversion \n",
    "\n",
    "def temperature_conversion(temp,unit):\n",
    "    if unit==\"C\":\n",
    "        return (temp*9/5)+32\n",
    "    elif unit==\"F\":\n",
    "        return (temp-32)+5/9\n",
    "    else:\n",
    "        return None\n",
    "    \n",
    "\n",
    "print(temperature_conversion(100,\"C\"))\n",
    "print(temperature_conversion(100,\"F\"))\n",
    "    \n",
    "\n",
    "    "
   ]
  },
  {
   "cell_type": "code",
   "execution_count": 16,
   "id": "d3df1b4c",
   "metadata": {},
   "outputs": [
    {
     "name": "stdout",
     "output_type": "stream",
     "text": [
      "False\n"
     ]
    }
   ],
   "source": [
    "##Pasword Strength Checker \n",
    "def is_strong_password(password):\n",
    "    if len(password)<8:\n",
    "        return False\n",
    "    if not any(char.isdigit() for char in password):\n",
    "        return False\n",
    "    if not any(char.islower() for char in password):\n",
    "        return False\n",
    "    if not any(char.isupper() for char in password):\n",
    "        return False\n",
    "    if not any(char in '!@#%$&()_+^' for char in password):\n",
    "        return False\n",
    "    return True\n",
    " ### calling Function \n",
    "print(is_strong_password(\"riyajha@2005\")) "
   ]
  },
  {
   "cell_type": "code",
   "execution_count": 21,
   "id": "ef12f31b",
   "metadata": {},
   "outputs": [
    {
     "name": "stdout",
     "output_type": "stream",
     "text": [
      "3500\n"
     ]
    }
   ],
   "source": [
    "### Total cost of the items present in cart\n",
    "def total_cost_cart(cart):\n",
    "    total=0\n",
    "    for i in cart:\n",
    "     total+=i['Price']*i['Quantity']\n",
    "    return total\n",
    "    \n",
    "cart=[\n",
    "   {'Name':'lipstick','Price':100,'Quantity':5},\n",
    "    {'Name':'Foundation','Price':500,'Quantity':5},\n",
    "    {'Name':'wipes','Price':100,'Quantity':5}\n",
    "    \n",
    "]\n",
    "\n",
    "print(total_cost_cart(cart))\n"
   ]
  },
  {
   "cell_type": "code",
   "execution_count": 30,
   "id": "ef677e5f",
   "metadata": {},
   "outputs": [
    {
     "data": {
      "text/plain": [
       "True"
      ]
     },
     "execution_count": 30,
     "metadata": {},
     "output_type": "execute_result"
    }
   ],
   "source": [
    "## Check if a string is a Palindrome or not\n",
    "def is_palindrome(word):\n",
    "    word=word.lower() ,word.replace(\" \",\"\") \n",
    " \n",
    "    return word==word[::-1] \n",
    " \n",
    "is_palindrome(\"kanak\")\n"
   ]
  },
  {
   "cell_type": "code",
   "execution_count": 36,
   "id": "d07c3985",
   "metadata": {},
   "outputs": [
    {
     "data": {
      "text/plain": [
       "720"
      ]
     },
     "execution_count": 36,
     "metadata": {},
     "output_type": "execute_result"
    }
   ],
   "source": [
    "## Factorial using recusrion \n",
    "def factorial(num):\n",
    "    if num==0 or num==1:\n",
    "        return 1\n",
    "    return num*factorial(num-1)\n",
    "\n",
    "factorial(6)"
   ]
  },
  {
   "cell_type": "code",
   "execution_count": 55,
   "id": "cf5bde93",
   "metadata": {},
   "outputs": [
    {
     "name": "stdout",
     "output_type": "stream",
     "text": [
      "{'i': 2, 'am': 1, 'riya': 1, 'jha': 1, 'an': 1, 'engineering': 1, 'student': 1, 'enthusiatic': 1, 'about': 1, 'ai': 1, 'and': 1, 'ml': 1, 'also': 1, 'have': 1, 'keenn': 1, 'interest': 1, 'in': 1, 'python': 1}\n"
     ]
    }
   ],
   "source": [
    "### A function to count the frequency if words in a given file\n",
    "\n",
    "def word_freq(file_Path):\n",
    "    word_count={}\n",
    "    with open(file_path,'r') as file:\n",
    "        for line in file:\n",
    "            words=line.split()\n",
    "            for word in words:\n",
    "                word=word.lower().strip('.,?!;:\"\\'')\n",
    "                word_count[word]=word_count.get(word,0)+1\n",
    "\n",
    "    return word_count\n",
    "\n",
    "\n",
    "file_path='sample.txt'\n",
    "word_frequency=word_freq(file_path)\n",
    "print(word_frequency)"
   ]
  },
  {
   "cell_type": "code",
   "execution_count": 61,
   "id": "0fb3e776",
   "metadata": {},
   "outputs": [
    {
     "name": "stdout",
     "output_type": "stream",
     "text": [
      "False\n"
     ]
    }
   ],
   "source": [
    "##  check Validate Emaid-id \n",
    "import re\n",
    "def check_email(id):\n",
    "     pattern=r'^[a-zA-Z0-9_.+-]+-.]+@[a-zA-Z0-9-]+\\.[a-zA-Z0-9-.]+$'\n",
    "     return re.match(pattern,id) is not None\n",
    "## calling the function \n",
    "print(check_email(\"test@example.com\"))"
   ]
  },
  {
   "cell_type": "markdown",
   "id": "857fc045",
   "metadata": {},
   "source": [
    "Lambda Function \n",
    "An anonyms function defined using the lambda keyword,they can have only any number of arguments but onlyt one expression.\n"
   ]
  },
  {
   "cell_type": "code",
   "execution_count": null,
   "id": "d2fd0a3c",
   "metadata": {},
   "outputs": [
    {
     "data": {
      "text/plain": [
       "<function __main__.<lambda>(arguments)>"
      ]
     },
     "execution_count": 1,
     "metadata": {},
     "output_type": "execute_result"
    }
   ],
   "source": [
    "## syntax\n",
    "###  lambda arguments:expression"
   ]
  },
  {
   "cell_type": "code",
   "execution_count": 4,
   "id": "81a1497e",
   "metadata": {},
   "outputs": [
    {
     "name": "stdout",
     "output_type": "stream",
     "text": [
      "6\n"
     ]
    }
   ],
   "source": [
    "## example\n",
    "addition=lambda a,b,c:a+b+c\n",
    "print(addition(1,2,3))\n"
   ]
  },
  {
   "cell_type": "markdown",
   "id": "563f7d2f",
   "metadata": {},
   "source": [
    "MAP FUNCTION "
   ]
  },
  {
   "cell_type": "code",
   "execution_count": null,
   "id": "4b19c360",
   "metadata": {},
   "outputs": [],
   "source": [
    "##SYNTAX \n",
    " ##map(function,iterable)"
   ]
  },
  {
   "cell_type": "code",
   "execution_count": 3,
   "id": "dd127cf3",
   "metadata": {},
   "outputs": [
    {
     "data": {
      "text/plain": [
       "[1, 4, 9, 16, 25, 36]"
      ]
     },
     "execution_count": 3,
     "metadata": {},
     "output_type": "execute_result"
    }
   ],
   "source": [
    "## EXAMPLE\n",
    "numbers=[1,2,3,4,5,6]\n",
    "squares=lambda num:num**2\n",
    "list(map(squares,numbers))"
   ]
  },
  {
   "cell_type": "code",
   "execution_count": 7,
   "id": "2d068870",
   "metadata": {},
   "outputs": [
    {
     "data": {
      "text/plain": [
       "[18, 4, 6]"
      ]
     },
     "execution_count": 7,
     "metadata": {},
     "output_type": "execute_result"
    }
   ],
   "source": [
    "## addition of two list using  map function \n",
    "list1=[9,2,3]\n",
    "list2=[9,2,3]\n",
    "addition =lambda x,y:x+y\n",
    "list(map(addition,list1,list2))"
   ]
  },
  {
   "cell_type": "code",
   "execution_count": null,
   "id": "3b256d52",
   "metadata": {},
   "outputs": [
    {
     "name": "stdout",
     "output_type": "stream",
     "text": [
      "[1, 3, 5]\n"
     ]
    }
   ],
   "source": [
    "## using map() to convert list of string into integers\n",
    "num_list=['1','3','5']\n",
    "int_list=list(map(int, num_list))\n",
    "print(int_list)\n"
   ]
  },
  {
   "cell_type": "code",
   "execution_count": 10,
   "id": "8e1cfe63",
   "metadata": {},
   "outputs": [
    {
     "name": "stdout",
     "output_type": "stream",
     "text": [
      "['1', '2', '3']\n"
     ]
    }
   ],
   "source": [
    "### convert list of integers into list of string\n",
    "str_list=[1,2,3]\n",
    "integer_list=list(map(str,str_list))\n",
    "print(integer_list)"
   ]
  },
  {
   "cell_type": "code",
   "execution_count": 12,
   "id": "7a2dcc30",
   "metadata": {},
   "outputs": [
    {
     "name": "stdout",
     "output_type": "stream",
     "text": [
      "['RIYA', 'HIMANSHI', 'KASHISH']\n"
     ]
    }
   ],
   "source": [
    "## change lowercasr to upper case \n",
    "list_lower=['riya','himanshi','kashish']\n",
    "to_upper=list(map(str.upper,list_lower))\n",
    "print(to_upper)"
   ]
  },
  {
   "cell_type": "markdown",
   "id": "bc8c8422",
   "metadata": {},
   "source": [
    "Filter Function"
   ]
  },
  {
   "cell_type": "markdown",
   "id": "c1f44759",
   "metadata": {},
   "source": [
    "#### syntax \n",
    "filter(function,sequences)\n",
    "A function that defines the condition the  filter the elements"
   ]
  },
  {
   "cell_type": "code",
   "execution_count": 14,
   "id": "aa4781b8",
   "metadata": {},
   "outputs": [
    {
     "data": {
      "text/plain": [
       "[2, 4, 6, 8]"
      ]
     },
     "execution_count": 14,
     "metadata": {},
     "output_type": "execute_result"
    }
   ],
   "source": [
    "## examples\n",
    "even= lambda x:x%2==0\n",
    "digits=[1,2,3,4,5,6,7,8,9]\n",
    "list(filter(even,digits))"
   ]
  },
  {
   "cell_type": "code",
   "execution_count": null,
   "id": "7f8ce473",
   "metadata": {},
   "outputs": [
    {
     "data": {
      "text/plain": [
       "[None, 2, None, 4, None, 6, None, 8, None]"
      ]
     },
     "execution_count": 16,
     "metadata": {},
     "output_type": "execute_result"
    }
   ],
   "source": [
    "## difference between filter and map function \n",
    "def even_no(num):\n",
    "    if num%2==0:\n",
    "        return num \n",
    "list(map(even_no,digits))"
   ]
  },
  {
   "cell_type": "code",
   "execution_count": 20,
   "id": "89595634",
   "metadata": {},
   "outputs": [
    {
     "data": {
      "text/plain": [
       "[65, 67, 44, 45]"
      ]
     },
     "execution_count": 20,
     "metadata": {},
     "output_type": "execute_result"
    }
   ],
   "source": [
    "## filter to check if the  age is greater than 25 in dictionary\n",
    "age_dic={23,24,44,45,67,65}\n",
    "age_graeter25=lambda x:x>25\n",
    "list(filter(age_graeter25,age_dic))"
   ]
  }
 ],
 "metadata": {
  "kernelspec": {
   "display_name": "Python 3",
   "language": "python",
   "name": "python3"
  },
  "language_info": {
   "codemirror_mode": {
    "name": "ipython",
    "version": 3
   },
   "file_extension": ".py",
   "mimetype": "text/x-python",
   "name": "python",
   "nbconvert_exporter": "python",
   "pygments_lexer": "ipython3",
   "version": "3.12.0"
  }
 },
 "nbformat": 4,
 "nbformat_minor": 5
}
