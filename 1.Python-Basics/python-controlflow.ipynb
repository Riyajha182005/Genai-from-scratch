{
 "cells": [
  {
   "cell_type": "markdown",
   "id": "40648896",
   "metadata": {},
   "source": [
    "Conditionals Statements"
   ]
  },
  {
   "cell_type": "code",
   "execution_count": 17,
   "id": "66e48004",
   "metadata": {},
   "outputs": [
    {
     "name": "stdout",
     "output_type": "stream",
     "text": [
      "Nhi de skta vote tu \n"
     ]
    }
   ],
   "source": [
    "##if statement \n",
    "age=int(input(\"write your age\"))\n",
    "if(age==18):\n",
    "    print(\"DE de bhai vote tu \")\n",
    "elif(age==20):\n",
    " print(\"njk\")\n",
    "else:\n",
    "  print(\"Nhi de skta vote tu \")"
   ]
  },
  {
   "cell_type": "code",
   "execution_count": 4,
   "id": "0622720a",
   "metadata": {},
   "outputs": [
    {
     "name": "stdout",
     "output_type": "stream",
     "text": [
      "2025 is not a leap year\n"
     ]
    }
   ],
   "source": [
    "## one morre example\n",
    "year=int(input(\"Enter thr year\"))\n",
    "if year%4==0:\n",
    "    if year%100==0:\n",
    "        if year%400==0:\n",
    "          print(year,\"is a leap year\")\n",
    "        else:\n",
    "           print(year,\"is not a leap year\")\n",
    "    else:\n",
    "        print(year,\"is  a leap year\")\n",
    "else:\n",
    "    print(year,\"is not a leap year\")\n"
   ]
  },
  {
   "cell_type": "markdown",
   "id": "c4d50f84",
   "metadata": {},
   "source": [
    "Nested conditionals statements "
   ]
  },
  {
   "cell_type": "code",
   "execution_count": 15,
   "id": "88f6039e",
   "metadata": {},
   "outputs": [
    {
     "name": "stdout",
     "output_type": "stream",
     "text": [
      " ur number is negative \n"
     ]
    }
   ],
   "source": [
    "number=int(input(\"Enter your Number\"))\n",
    "if(number>0 and number%2==0):\n",
    "    print(\"ur number is even\")\n",
    "elif(number<0):\n",
    "    print(\" ur number is negative \")\n",
    "else:\n",
    "    print(\"ur numer is odd\")"
   ]
  },
  {
   "cell_type": "markdown",
   "id": "196e29dd",
   "metadata": {},
   "source": [
    "Loops in pyhton \n"
   ]
  },
  {
   "cell_type": "code",
   "execution_count": 1,
   "id": "e20b60f7",
   "metadata": {},
   "outputs": [
    {
     "name": "stdout",
     "output_type": "stream",
     "text": [
      "0\n",
      "1\n",
      "2\n",
      "3\n",
      "4\n"
     ]
    }
   ],
   "source": [
    "## for loop \n",
    "for i in range(5):\n",
    "    print(i)"
   ]
  },
  {
   "cell_type": "code",
   "execution_count": 3,
   "id": "e44e185b",
   "metadata": {},
   "outputs": [
    {
     "name": "stdout",
     "output_type": "stream",
     "text": [
      "10\n",
      "8\n",
      "6\n",
      "4\n",
      "2\n"
     ]
    }
   ],
   "source": [
    "for i in range(10,0,-2):\n",
    "    print(i)"
   ]
  },
  {
   "cell_type": "code",
   "execution_count": 5,
   "id": "d2c61566",
   "metadata": {},
   "outputs": [
    {
     "name": "stdout",
     "output_type": "stream",
     "text": [
      "R\n",
      "i\n",
      "y\n",
      "a\n",
      " \n",
      "J\n",
      "h\n",
      "a\n"
     ]
    }
   ],
   "source": [
    "#strings\n",
    "str=\"Riya Jha\"\n",
    "for i in str:\n",
    "    print(i)"
   ]
  },
  {
   "cell_type": "code",
   "execution_count": 8,
   "id": "0b2aee2c",
   "metadata": {},
   "outputs": [
    {
     "name": "stdout",
     "output_type": "stream",
     "text": [
      "0\n",
      "2\n",
      "4\n"
     ]
    }
   ],
   "source": [
    "##while loop\n",
    "count=0\n",
    "while(count<=5):\n",
    "    print(count)\n",
    "    count=count+2"
   ]
  },
  {
   "cell_type": "markdown",
   "id": "5f6817ef",
   "metadata": {},
   "source": [
    "Loop control statements "
   ]
  },
  {
   "cell_type": "code",
   "execution_count": 9,
   "id": "6866b404",
   "metadata": {},
   "outputs": [
    {
     "name": "stdout",
     "output_type": "stream",
     "text": [
      "0\n",
      "1\n",
      "2\n",
      "3\n",
      "4\n",
      "5\n",
      "6\n",
      "7\n",
      "8\n"
     ]
    }
   ],
   "source": [
    "## break\n",
    "for i in range(10):\n",
    "    if i==9:\n",
    "        break\n",
    "    print(i)"
   ]
  },
  {
   "cell_type": "code",
   "execution_count": 10,
   "id": "493099f5",
   "metadata": {},
   "outputs": [
    {
     "name": "stdout",
     "output_type": "stream",
     "text": [
      "0\n",
      "2\n",
      "4\n",
      "6\n",
      "8\n",
      "10\n",
      "12\n",
      "14\n",
      "16\n",
      "18\n"
     ]
    }
   ],
   "source": [
    "## continue \n",
    "for i in  range(19):\n",
    "    if(i%2!=0):\n",
    "        continue\n",
    "    print(i)"
   ]
  },
  {
   "cell_type": "markdown",
   "id": "9d87e858",
   "metadata": {},
   "source": [
    "Nested Loops "
   ]
  },
  {
   "cell_type": "code",
   "execution_count": null,
   "id": "0d424fdc",
   "metadata": {},
   "outputs": [
    {
     "name": "stdout",
     "output_type": "stream",
     "text": [
      "i:0 and j:0\n",
      "i:0 and j:1\n",
      "i:0 and j:2\n",
      "i:0 and j:3\n",
      "i:0 and j:4\n",
      "i:1 and j:0\n",
      "i:1 and j:1\n",
      "i:1 and j:2\n",
      "i:1 and j:3\n",
      "i:1 and j:4\n"
     ]
    },
    {
     "name": "stdout",
     "output_type": "stream",
     "text": [
      "i:0 and j:0\n",
      "i:0 and j:1\n",
      "i:0 and j:2\n",
      "i:0 and j:3\n",
      "i:0 and j:4\n",
      "i:1 and j:0\n",
      "i:1 and j:1\n",
      "i:1 and j:2\n",
      "i:1 and j:3\n",
      "i:1 and j:4\n"
     ]
    }
   ],
   "source": [
    "## Nested loops means loop inside the loops \n",
    "for i in range(2):\n",
    "    for j in range(5):\n",
    "        print(f\"i:{i} and j:{j}\")"
   ]
  },
  {
   "cell_type": "code",
   "execution_count": 7,
   "id": "c64fba33",
   "metadata": {},
   "outputs": [
    {
     "name": "stdout",
     "output_type": "stream",
     "text": [
      "55\n"
     ]
    }
   ],
   "source": [
    "## Examples \n",
    "## calculate the sum of first N natural numbers using for or while loop \n",
    "n=10\n",
    "sum=0\n",
    "for i in range(11):\n",
    "    sum=sum+i\n",
    "    \n",
    "print(sum)"
   ]
  },
  {
   "cell_type": "code",
   "execution_count": 11,
   "id": "538a049f",
   "metadata": {},
   "outputs": [
    {
     "name": "stdout",
     "output_type": "stream",
     "text": [
      "55\n"
     ]
    }
   ],
   "source": [
    "## doing same question usin while loop \n",
    "n=int(input())\n",
    "sum=0\n",
    "while n>=0:\n",
    "    sum=sum+n\n",
    "    n=n-1\n",
    "print(sum)"
   ]
  }
 ],
 "metadata": {
  "kernelspec": {
   "display_name": "Python 3",
   "language": "python",
   "name": "python3"
  },
  "language_info": {
   "codemirror_mode": {
    "name": "ipython",
    "version": 3
   },
   "file_extension": ".py",
   "mimetype": "text/x-python",
   "name": "python",
   "nbconvert_exporter": "python",
   "pygments_lexer": "ipython3",
   "version": "3.12.0"
  }
 },
 "nbformat": 4,
 "nbformat_minor": 5
}
