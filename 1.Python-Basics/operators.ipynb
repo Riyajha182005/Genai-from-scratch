{
 "cells": [
  {
   "cell_type": "markdown",
   "id": "f9e679cd",
   "metadata": {},
   "source": [
    "Lets deep dive into Operators "
   ]
  },
  {
   "cell_type": "code",
   "execution_count": null,
   "id": "79b3c236",
   "metadata": {},
   "outputs": [
    {
     "name": "stdout",
     "output_type": "stream",
     "text": [
      "17\n",
      "1\n",
      "72\n",
      "1.125\n",
      "1\n",
      "1\n"
     ]
    }
   ],
   "source": [
    "## Arithmetic Operations \n",
    "a=9\n",
    "b=8\n",
    "add_reult=a+b\n",
    "sub_result=a-b\n",
    "mul_result=a*b\n",
    "div_result=a/b\n",
    "floorDiv_result=a//b\n",
    "modular_result=a%b\n",
    "print(add_reult)\n",
    "print(sub_result)\n",
    "print(mul_result)\n",
    "print(div_result)\n",
    "print(floorDiv_result)\n",
    "print(modular_result)"
   ]
  },
  {
   "cell_type": "markdown",
   "id": "56bbf2cc",
   "metadata": {},
   "source": []
  },
  {
   "cell_type": "code",
   "execution_count": null,
   "id": "115b15af",
   "metadata": {},
   "outputs": [],
   "source": [
    "num1=42\n",
    "num2=42\n",
    "num1==num2"
   ]
  },
  {
   "cell_type": "code",
   "execution_count": null,
   "id": "639cde12",
   "metadata": {},
   "outputs": [],
   "source": []
  }
 ],
 "metadata": {
  "kernelspec": {
   "display_name": "Python 3",
   "language": "python",
   "name": "python3"
  },
  "language_info": {
   "codemirror_mode": {
    "name": "ipython",
    "version": 3
   },
   "file_extension": ".py",
   "mimetype": "text/x-python",
   "name": "python",
   "nbconvert_exporter": "python",
   "pygments_lexer": "ipython3",
   "version": "3.12.0"
  }
 },
 "nbformat": 4,
 "nbformat_minor": 5
}
