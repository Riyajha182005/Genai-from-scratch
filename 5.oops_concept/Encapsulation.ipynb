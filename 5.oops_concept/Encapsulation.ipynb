{
 "cells": [
  {
   "cell_type": "markdown",
   "id": "ebb6c5b2",
   "metadata": {},
   "source": [
    "## Encapsulation"
   ]
  },
  {
   "cell_type": "markdown",
   "id": "f0435c52",
   "metadata": {},
   "source": [
    "Technically, encapsulation is an object-oriented programming principle where data (variables) and methods (functions) are bundled together in a class."
   ]
  },
  {
   "cell_type": "code",
   "execution_count": null,
   "id": "70960da9",
   "metadata": {},
   "outputs": [
    {
     "data": {
      "text/plain": [
       "'Riya Jha'"
      ]
     },
     "execution_count": 3,
     "metadata": {},
     "output_type": "execute_result"
    }
   ],
   "source": [
    "## Example Encapsulation \n",
    "## public,protected ,private (Access Modifiers)\n",
    "class Person():\n",
    "    def __init__(self,name,age):\n",
    "        self.name=name ### Public Variable\n",
    "        self.age=age\n",
    "\n",
    "## creating function to get person name \n",
    "def get_name(person):\n",
    "    return person.name\n",
    "\n",
    "person=Person(\"Riya Jha\",19)\n",
    "## Here we can see the that the person variable name is directly \n",
    "# access out of the class because it is public access modifiers\n",
    "get_name(person)"
   ]
  },
  {
   "cell_type": "markdown",
   "id": "de2ab18a",
   "metadata": {},
   "source": [
    "## Private Access Modifiers "
   ]
  },
  {
   "cell_type": "markdown",
   "id": "10040dec",
   "metadata": {},
   "source": [
    "Private members are variables or methods that cannot be accessed directly from outside the class. They are used to restrict access and protect internal data.\n",
    "\n",
    "In Python, private members are defined with a double underscore prefix (e.g., self.__name). Python applies name mangling by internally renaming them (e.g., __salary becomes _ClassName__salary) to prevent direct access."
   ]
  },
  {
   "cell_type": "code",
   "execution_count": null,
   "metadata": {},
   "outputs": [
    {
     "data": {
      "text/plain": [
       "'Dark'"
      ]
     },
     "execution_count": 13,
     "metadata": {},
     "output_type": "execute_result"
    }
   ],
   "source": [
    "## Private Acesss Modifiers\n",
    "class food():\n",
    "    def __init__(self,name,taste):\n",
    "     self.__name=name ## private variable\n",
    "     self.taste=taste## public variable\n",
    "\n",
    "\n",
    "def get_name(food):\n",
    "   return food.name\n",
    "def get_taste(food):\n",
    "   return food.taste\n",
    "## creating Object\n",
    "food1=food(\"Coffe\",\"Dark\")\n",
    "\n",
    "get_taste(food1)\n",
    " ## Now using ___ we make the variable private \n",
    "get_name(person)\n",
    "## it will not display the name it showing error because it a private variable \n",
    "# and not accessible outside the class \n",
    "   "
   ]
  },
  {
   "cell_type": "code",
   "execution_count": 10,
   "id": "2d17dcd3",
   "metadata": {},
   "outputs": [
    {
     "data": {
      "text/plain": [
       "['__class__',\n",
       " '__delattr__',\n",
       " '__dict__',\n",
       " '__dir__',\n",
       " '__doc__',\n",
       " '__eq__',\n",
       " '__format__',\n",
       " '__ge__',\n",
       " '__getattribute__',\n",
       " '__getstate__',\n",
       " '__gt__',\n",
       " '__hash__',\n",
       " '__init__',\n",
       " '__init_subclass__',\n",
       " '__le__',\n",
       " '__lt__',\n",
       " '__module__',\n",
       " '__ne__',\n",
       " '__new__',\n",
       " '__reduce__',\n",
       " '__reduce_ex__',\n",
       " '__repr__',\n",
       " '__setattr__',\n",
       " '__sizeof__',\n",
       " '__str__',\n",
       " '__subclasshook__',\n",
       " '__weakref__']"
      ]
     },
     "execution_count": 10,
     "metadata": {},
     "output_type": "execute_result"
    }
   ],
   "source": [
    "dir(food)"
   ]
  },
  {
   "cell_type": "markdown",
   "id": "6b6e81a1",
   "metadata": {},
   "source": [
    "## Protected Access Modifiers \n",
    "Protected members are variables or methods that are intended to be accessed only within the class and its subclasses.\n",
    "They are not strictly private but should be treated as internal."
   ]
  },
  {
   "cell_type": "code",
   "execution_count": 14,
   "id": "e73525e0",
   "metadata": {},
   "outputs": [
    {
     "name": "stdout",
     "output_type": "stream",
     "text": [
      "30\n"
     ]
    }
   ],
   "source": [
    "class Protected:\n",
    "    def __init__(self):\n",
    "        self._age = 30  # Protected attribute\n",
    "\n",
    "class Subclass(Protected):\n",
    "    def display_age(self):\n",
    "        print(self._age)  # Accessible in subclass\n",
    "\n",
    "obj = Subclass()\n",
    "obj.display_age()"
   ]
  },
  {
   "cell_type": "markdown",
   "id": "4a3f64d7",
   "metadata": {},
   "source": [
    "## Encapsulation With Getter and Setter\n",
    "In Python, getter and setter methods are used to access and modify private attributes safely. Instead of accessing private data directly, these methods provide controlled access, allowing you to:\n",
    "\n",
    "Read data using a getter method.\n",
    "Update data using a setter method with optional validation or restrictions.\n"
   ]
  },
  {
   "cell_type": "code",
   "execution_count": null,
   "id": "40adf0d8",
   "metadata": {},
   "outputs": [
    {
     "name": "stdout",
     "output_type": "stream",
     "text": [
      "Preeti\n",
      "21\n"
     ]
    }
   ],
   "source": [
    "class Employee():\n",
    "    def __init__(self,name,age):\n",
    "        self.__name=name ## private variable\n",
    "        self.__age=age ## private variable\n",
    "\n",
    "## getter method for name \n",
    "    def get_name(self):\n",
    "     return self.__name\n",
    "\n",
    "## setter method for name \n",
    "    def set_name(self,name):\n",
    "      self.__name=name\n",
    "\n",
    "## getter method for age \n",
    "    def get_age(self):\n",
    "      return self.__age\n",
    "\n",
    "## setter method for age\n",
    "    def set_age(self,age):\n",
    "      if age>0:\n",
    "       self.__age=age\n",
    "      else:\n",
    "        print(\"Age cannot be less than Zero\")\n",
    "\n",
    "## creating a object\n",
    "person=Employee(\"Riya Jha\",19)\n",
    "\n",
    "\n",
    "## Acessing the private variable using getter method\n",
    "print(person.get_name())\n",
    "print(person.get_age())\n",
    "\n",
    "\n",
    "##Modifying the Private variable using setter method \n",
    "person.set_name(\"Preeti\")\n",
    "person.set_age(21)\n",
    "\n",
    "print(person.get_name())\n",
    "print(person.get_age())\n"
   ]
  }
 ],
 "metadata": {
  "kernelspec": {
   "display_name": "Python 3",
   "language": "python",
   "name": "python3"
  },
  "language_info": {
   "codemirror_mode": {
    "name": "ipython",
    "version": 3
   },
   "file_extension": ".py",
   "mimetype": "text/x-python",
   "name": "python",
   "nbconvert_exporter": "python",
   "pygments_lexer": "ipython3",
   "version": "3.12.0"
  }
 },
 "nbformat": 4,
 "nbformat_minor": 5
}
