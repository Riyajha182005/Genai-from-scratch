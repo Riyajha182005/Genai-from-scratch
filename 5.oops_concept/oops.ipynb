{
 "cells": [
  {
   "cell_type": "markdown",
   "id": "fc580419",
   "metadata": {},
   "source": [
    "Object and  Classes"
   ]
  },
  {
   "cell_type": "markdown",
   "id": "e9ccd6c9",
   "metadata": {},
   "source": [
    "Object-Oriented Programming (OOP) in Python is a programming paradigm based on the concept of \"objects,\" which can contain data (attributes) and code (methods) that manipulate that data. It aims to model real-world entities and their interactions, leading to more organized, reusable, and maintainable code."
   ]
  },
  {
   "cell_type": "markdown",
   "id": "f1a4c8ce",
   "metadata": {},
   "source": [
    "Classes and Objects "
   ]
  },
  {
   "cell_type": "markdown",
   "id": "bd3f6ea3",
   "metadata": {},
   "source": [
    "A class is a blue print for creating a object"
   ]
  },
  {
   "cell_type": "code",
   "execution_count": 2,
   "id": "56fbcbca",
   "metadata": {},
   "outputs": [
    {
     "name": "stdout",
     "output_type": "stream",
     "text": [
      "<class '__main__.skincare'>\n",
      "<__main__.skincare object at 0x0000018978936210>\n"
     ]
    }
   ],
   "source": [
    "## How to create a class\n",
    "class skincare:\n",
    "    pass\n",
    "mamaearth=skincare()\n",
    "foxtale=skincare()\n",
    "\n",
    "print(type(mamaearth))\n",
    "print(mamaearth)\n"
   ]
  },
  {
   "cell_type": "code",
   "execution_count": null,
   "metadata": {},
   "outputs": [
    {
     "name": "stdout",
     "output_type": "stream",
     "text": [
      "Pink Blush\n",
      "499\n",
      "999\n",
      "Hair Oil\n"
     ]
    }
   ],
   "source": [
    "## Instance variable\n",
    "class skincare_brand:\n",
    "    ### constructor\n",
    "## In Python, a constructor is a special method used to initialize new objects of a class.\n",
    "# It is automatically called when an object of the class is created.\n",
    "    def __init__(self,Product_name,MRP):\n",
    "        self.Product_name=Product_name\n",
    "        self.MRP=MRP\n",
    "'''__init__ method:\n",
    "Python constructors are defined using the special method __init__(). \n",
    "This method is part of the class definition.'''\n",
    "\n",
    "## CREATING A OBJECTS \n",
    "plix=skincare_brand(\"Pink Blush\",499)\n",
    "print(plix.Product_name)\n",
    "print(plix.MRP)\n",
    "\n",
    "## Now we create multiple no of objects \n",
    "Wish_care=skincare_brand(\"Hair Oil\",999)\n",
    "\n",
    "print(Wish_care.MRP)\n",
    "print(Wish_care.Product_name)\n"
   ]
  },
  {
   "cell_type": "code",
   "execution_count": 19,
   "metadata": {},
   "outputs": [
    {
     "name": "stdout",
     "output_type": "stream",
     "text": [
      "Bruno who is 3 yr old have sound bark\n",
      "Dora who is 1 yr old have sound meow\n"
     ]
    }
   ],
   "source": [
    "## A class with Instance method \n",
    "class Animal:\n",
    "    ## constructor\n",
    "    def __init__(self,name,Age,sound):\n",
    "        self.name=name\n",
    "        self.Age=Age\n",
    "        self.sound=sound\n",
    "\n",
    "    def animal_sound(self):\n",
    "        print(f\"{self.name} who is {self.Age} yr old have sound {self.sound}\")\n",
    "\n",
    "\n",
    "dog=Animal(\"Bruno\",3,\"bark\")\n",
    "dog.animal_sound()\n",
    "\n",
    "cat=Animal(\"Dora\",1,\"meow\")\n",
    "cat.animal_sound()"
   ]
  },
  {
   "cell_type": "code",
   "execution_count": 31,
   "id": "0a672581",
   "metadata": {},
   "outputs": [
    {
     "name": "stdout",
     "output_type": "stream",
     "text": [
      "1000 is withdraw from your Account\n",
      " Available Bal:11000\n",
      "10000000000 is deposied to your Account\n",
      " Available balance is :10000011000\n"
     ]
    }
   ],
   "source": [
    "## Modelling a Bank Account\n",
    "\n",
    "class  Bank_account:\n",
    "     ## constructor \n",
    "     def __init__(self,Account_holder_name,balance=0):\n",
    "          self.Account_holder_name=Account_holder_name\n",
    "          self.balance=balance\n",
    "     def deposit(self,amount):\n",
    "          self.balance+=amount\n",
    "          print(f\"{amount} is deposied to your Account\\n Available balance is :{self.balance}\")\n",
    "     def withdraw(self,amount):\n",
    "          if amount>self.balance:\n",
    "           print(\"Your Account doesn't have sufficient amount to withdraw this amount\")\n",
    "          else:\n",
    "              self.balance-=amount\n",
    "              print(f\"{amount} is withdraw from your Account\\n Available Bal:{self.balance}\")\n",
    "     def get_balance(self):\n",
    "         return self.balance\n",
    "### creating object \n",
    "customer1=Bank_account(\"Riya Jha\",12000)\n",
    "customer1.withdraw(1000)\n",
    "customer1.deposit(10000000000)\n"
   ]
  },
  {
   "cell_type": "code",
   "execution_count": null,
   "id": "59f8b585",
   "metadata": {},
   "outputs": [],
   "source": []
  }
 ],
 "metadata": {
  "kernelspec": {
   "display_name": "Python 3",
   "language": "python",
   "name": "python3"
  },
  "language_info": {
   "codemirror_mode": {
    "name": "ipython",
    "version": 3
   },
   "file_extension": ".py",
   "mimetype": "text/x-python",
   "name": "python",
   "nbconvert_exporter": "python",
   "pygments_lexer": "ipython3",
   "version": "3.12.0"
  }
 },
 "nbformat": 4,
 "nbformat_minor": 5
}
