{
 "cells": [
  {
   "cell_type": "markdown",
   "id": "6e1ec54f",
   "metadata": {},
   "source": [
    "Polymorphism"
   ]
  },
  {
   "cell_type": "markdown",
   "id": "ee3058f9",
   "metadata": {},
   "source": [
    "Polymorphism means \"many forms\". It refers to the ability of an entity (like a function or object) to perform different actions based on the context.\n",
    "\n",
    "Technically, in Python, polymorphism allows same method, function or operator to behave differently depending on object it is working with. This makes code more flexible and reusable."
   ]
  },
  {
   "cell_type": "markdown",
   "id": "ea49deec",
   "metadata": {},
   "source": [
    "## Type of Polymorphism"
   ]
  },
  {
   "cell_type": "markdown",
   "id": "2d7c01af",
   "metadata": {},
   "source": [
    "1.Compile-time Polymorphism (opertor overloading)\n",
    "\n",
    "2.Run-time Polymorphism (overriding)"
   ]
  },
  {
   "cell_type": "markdown",
   "id": "1ab7b06c",
   "metadata": {},
   "source": [
    " ## Method Overriding"
   ]
  },
  {
   "cell_type": "markdown",
   "id": "a39d1a8e",
   "metadata": {},
   "source": [
    " A child class provides its own version of a method already defined in the parent class. Since Python is dynamic, it supports this, allowing same method call to behave differently for different object types."
   ]
  },
  {
   "cell_type": "code",
   "execution_count": 6,
   "id": "b384f0be",
   "metadata": {},
   "outputs": [
    {
     "name": "stdout",
     "output_type": "stream",
     "text": [
      "wooh\n",
      "meow\n",
      "sound of the animal\n"
     ]
    }
   ],
   "source": [
    "## Base class\n",
    "class Animal():\n",
    "    def speak(self):\n",
    "        return \"sound of the animal\"\n",
    "\n",
    "## Derived class 1\n",
    "class cat(Animal):\n",
    "    def speak(self):\n",
    "        return \"meow\"\n",
    "\n",
    "## Derived class 2\n",
    "class Dog(Animal):\n",
    "    def speak(self):\n",
    "        return \"wooh\"\n",
    "    \n",
    "## creating objects \n",
    "animals=[Dog(),cat(),Animal()]\n",
    "for animal in animals :\n",
    " print(animal.speak())\n",
    "#here speaks() depending on whether object is a Dog, Cat or Animal and this decision happens at runtime.\n",
    "# This dynamic nature makes Python particularly powerful for runtime polymorphism.\n"
   ]
  },
  {
   "cell_type": "code",
   "execution_count": 12,
   "id": "5763f1e4",
   "metadata": {},
   "outputs": [
    {
     "name": "stdout",
     "output_type": "stream",
     "text": [
      "The area is :12\n",
      "The area is :81\n"
     ]
    }
   ],
   "source": [
    "## POLYMORPHISM IN FUNCTIONS\n",
    "#Base class \n",
    "class shape():\n",
    "    def area():\n",
    "        return \"The area of shape is \"\n",
    "## Derived class 1\n",
    "class Rectangle(shape):\n",
    "    def __init__(self,length,width):\n",
    "        self.length=length\n",
    "        self.width=width\n",
    "    def area(self):\n",
    "        return self.length * self.width\n",
    "## Derived class 2\n",
    "class Square(shape):\n",
    "    def __init__(self,side):\n",
    "     self.side=side  \n",
    "    def area(self):\n",
    "         return self.side*self.side\n",
    "     \n",
    "\n",
    "## Function to demonstrate polymorphism\n",
    "\n",
    "def print_area(shape):\n",
    "    print(f\"The area is :{shape.area()}\")\n",
    "\n",
    "rect1=Rectangle(4,3)\n",
    "squ1=Square(9)\n",
    "print_area(rect1)\n",
    "print_area(squ1)"
   ]
  },
  {
   "cell_type": "markdown",
   "id": "ef0eecb8",
   "metadata": {},
   "source": [
    "Polymorohism with abstract classs\n"
   ]
  },
  {
   "cell_type": "markdown",
   "id": "f8122661",
   "metadata": {},
   "source": [
    "Abstract Base Classes (ABCs) in Python, provided by the abc module, are a powerful tool for achieving polymorphism by defining a common interface that concrete subclasses must adhere to. "
   ]
  },
  {
   "cell_type": "code",
   "execution_count": 14,
   "id": "67e2e640",
   "metadata": {},
   "outputs": [
    {
     "name": "stdout",
     "output_type": "stream",
     "text": [
      "Car Engine started\n",
      "Motorcycle Engine started \n"
     ]
    }
   ],
   "source": [
    "###\n",
    "from abc import ABC,abstractmethod\n",
    "## define class \n",
    "class Vehicle(ABC):\n",
    "    @abstractmethod\n",
    "    def start_engine(self):\n",
    "        pass\n",
    "\n",
    "##Derive class 1\n",
    "class car(Vehicle):\n",
    "    def start_engine(self):\n",
    "        return \"Car Engine started\"\n",
    "\n",
    "## Derive class 2\n",
    "class Motorcycle(Vehicle):\n",
    "    def start_engine(self):\n",
    "        return \"Motorcycle Engine started \"\n",
    "    \n",
    "## Function to demonstrate the entire the polymorphism\n",
    "def start_vehicle(Vehicle):\n",
    "     print(Vehicle.start_engine())\n",
    "\n",
    "car1=car()\n",
    "motorcycle1=Motorcycle()\n",
    "start_vehicle(car1)\n",
    "start_vehicle(motorcycle1)\n",
    "  "
   ]
  }
 ],
 "metadata": {
  "kernelspec": {
   "display_name": "Python 3",
   "language": "python",
   "name": "python3"
  },
  "language_info": {
   "codemirror_mode": {
    "name": "ipython",
    "version": 3
   },
   "file_extension": ".py",
   "mimetype": "text/x-python",
   "name": "python",
   "nbconvert_exporter": "python",
   "pygments_lexer": "ipython3",
   "version": "3.12.0"
  }
 },
 "nbformat": 4,
 "nbformat_minor": 5
}
