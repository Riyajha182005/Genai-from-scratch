{
 "cells": [
  {
   "cell_type": "markdown",
   "id": "c37c28a1",
   "metadata": {},
   "source": [
    "Inheritance"
   ]
  },
  {
   "cell_type": "markdown",
   "id": "ba84f7b3",
   "metadata": {},
   "source": [
    "Inheritance in Python is a core concept of object-oriented programming (OOP) that allows a new class, called the derived class or subclass, to inherit attributes and methods from an existing class, known as the base class or superclass. "
   ]
  },
  {
   "cell_type": "code",
   "execution_count": null,
   "id": "f0ea691b",
   "metadata": {},
   "outputs": [
    {
     "name": "stdout",
     "output_type": "stream",
     "text": [
      "The Person is driving the petrol Engine car\n"
     ]
    }
   ],
   "source": [
    "## Example 1 ---Single Inheritance----\n",
    "## Parent class \n",
    "class car:\n",
    "    def __init__(self,Engine,windows,door):\n",
    "        self.Engine=Engine\n",
    "        self.windows=windows\n",
    "        self.door=door\n",
    "    def drive(self):\n",
    "        print(f\"The Person is driving the {self.Engine} Engine car\")\n",
    "\n",
    "## creaating object \n",
    "car1=car(\"petrol\",4,4)\n",
    "car1.drive()"
   ]
  },
  {
   "cell_type": "code",
   "execution_count": 7,
   "id": "4c9e754e",
   "metadata": {},
   "outputs": [
    {
     "name": "stdout",
     "output_type": "stream",
     "text": [
      "Tesla is self Driving :True\n",
      "The Person is driving the Electric Engine car\n"
     ]
    }
   ],
   "source": [
    "## child class \n",
    "class tesla(car):\n",
    "    ## constuctor\n",
    "    def __init__(self,Engine,windows,door,is_selfdriving):\n",
    "        super().__init__(Engine,windows,door)\n",
    "        self.is_selfdriving=is_selfdriving\n",
    "    def self_driving(self):\n",
    "        print(f\"Tesla is self Driving :{self.is_selfdriving}\")\n",
    "\n",
    "tesla1=tesla(\"Electric\",4,4,True)\n",
    "tesla1.self_driving()\n",
    "tesla1.drive()"
   ]
  },
  {
   "cell_type": "markdown",
   "id": "5819ad5f",
   "metadata": {},
   "source": [
    "## Multiple Inheritance"
   ]
  },
  {
   "cell_type": "markdown",
   "id": "c4358196",
   "metadata": {},
   "source": [
    "A class derived from more than one class "
   ]
  },
  {
   "cell_type": "code",
   "execution_count": 12,
   "id": "480a228d",
   "metadata": {},
   "outputs": [
    {
     "name": "stdout",
     "output_type": "stream",
     "text": [
      "dora says meow,owner is jha ninjas\n"
     ]
    }
   ],
   "source": [
    "## Base class 1\n",
    "class Animal():\n",
    "    def __init__(self,name):\n",
    "        self.name=name\n",
    "    def speak(self):\n",
    "        print(\"subclass must execute this method \")\n",
    " ## Base class 2\n",
    "class pet():\n",
    "    def __init__(self,owner):\n",
    "        self.owner=owner\n",
    "\n",
    "## Derived Class \n",
    "class cat(Animal,pet):\n",
    "    def  __init__(self, name,owner,awazz):\n",
    "        Animal.__init__(self,name)\n",
    "        pet.__init__(self,owner)\n",
    "        self.awazz=awazz\n",
    "\n",
    "    def sound(self):\n",
    "         print(f\"{self.name} says meow,owner is {self.owner}\")\n",
    "cat1=cat(\"dora\",\"jha ninjas\",\"meow\")\n",
    "cat1.sound()"
   ]
  }
 ],
 "metadata": {
  "kernelspec": {
   "display_name": "Python 3",
   "language": "python",
   "name": "python3"
  },
  "language_info": {
   "codemirror_mode": {
    "name": "ipython",
    "version": 3
   },
   "file_extension": ".py",
   "mimetype": "text/x-python",
   "name": "python",
   "nbconvert_exporter": "python",
   "pygments_lexer": "ipython3",
   "version": "3.12.0"
  }
 },
 "nbformat": 4,
 "nbformat_minor": 5
}
