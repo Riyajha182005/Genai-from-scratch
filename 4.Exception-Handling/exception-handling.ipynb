{
 "cells": [
  {
   "cell_type": "markdown",
   "id": "040c59b8",
   "metadata": {},
   "source": [
    "Exception Handling"
   ]
  },
  {
   "cell_type": "markdown",
   "id": "0a56ee18",
   "metadata": {},
   "source": [
    "Exeption handling allow us to handle exception gracefully and take corrective actions without stopping the execution of program."
   ]
  },
  {
   "cell_type": "markdown",
   "id": "5f93b6ff",
   "metadata": {},
   "source": [
    "What are exception ?\n"
   ]
  },
  {
   "cell_type": "markdown",
   "id": "21af7b4b",
   "metadata": {},
   "source": [
    "Exception are event that disrupt the normal flow of a program, it occured when a error occured during the execution of a program"
   ]
  },
  {
   "cell_type": "code",
   "execution_count": null,
   "id": "8ef6a49b",
   "metadata": {},
   "outputs": [
    {
     "ename": "NameError",
     "evalue": "name 'b' is not defined",
     "output_type": "error",
     "traceback": [
      "\u001b[31m---------------------------------------------------------------------------\u001b[39m",
      "\u001b[31mNameError\u001b[39m                                 Traceback (most recent call last)",
      "\u001b[36mCell\u001b[39m\u001b[36m \u001b[39m\u001b[32mIn[1]\u001b[39m\u001b[32m, line 2\u001b[39m\n\u001b[32m      1\u001b[39m \u001b[38;5;66;03m## Example 1\u001b[39;00m\n\u001b[32m----> \u001b[39m\u001b[32m2\u001b[39m a=\u001b[43mb\u001b[49m\n",
      "\u001b[31mNameError\u001b[39m: name 'b' is not defined"
     ]
    }
   ],
   "source": [
    "## Example 1\n",
    "a=b\n",
    "## we clearly see the exception hear b is not define"
   ]
  },
  {
   "cell_type": "code",
   "execution_count": 2,
   "id": "d3b1b9f4",
   "metadata": {},
   "outputs": [
    {
     "name": "stdout",
     "output_type": "stream",
     "text": [
      "name 'b' is not defined\n"
     ]
    }
   ],
   "source": [
    "## Now we can handle it by using try and except block\n",
    "## just like try-catch block\n",
    "try:\n",
    "    a=b\n",
    "except NameError as ex:\n",
    "    print(ex)\n"
   ]
  },
  {
   "cell_type": "code",
   "execution_count": null,
   "id": "36597e0d",
   "metadata": {},
   "outputs": [
    {
     "ename": "ZeroDivisionError",
     "evalue": "division by zero",
     "output_type": "error",
     "traceback": [
      "\u001b[31m---------------------------------------------------------------------------\u001b[39m",
      "\u001b[31mZeroDivisionError\u001b[39m                         Traceback (most recent call last)",
      "\u001b[36mCell\u001b[39m\u001b[36m \u001b[39m\u001b[32mIn[3]\u001b[39m\u001b[32m, line 2\u001b[39m\n\u001b[32m      1\u001b[39m \u001b[38;5;66;03m## we have the different type of exceptions \u001b[39;00m\n\u001b[32m----> \u001b[39m\u001b[32m2\u001b[39m result=\u001b[32;43m2\u001b[39;49m\u001b[43m/\u001b[49m\u001b[32;43m0\u001b[39;49m\n\u001b[32m      3\u001b[39m \u001b[38;5;66;03m## see the execption\u001b[39;00m\n",
      "\u001b[31mZeroDivisionError\u001b[39m: division by zero"
     ]
    }
   ],
   "source": [
    "## we have the different type of exceptions \n",
    "result=2/0\n",
    "## see the execption\n",
    "##  ZeroDivisionError: division by zero\n"
   ]
  },
  {
   "cell_type": "code",
   "execution_count": 7,
   "id": "201e80ad",
   "metadata": {},
   "outputs": [
    {
     "name": "stdout",
     "output_type": "stream",
     "text": [
      "division by zero\n",
      "Number divided by Zero is not defined \n",
      "Please enter the denominator greater than 0\n"
     ]
    }
   ],
   "source": [
    "# Now we can handle it gracefully \n",
    "try:\n",
    "    reslt=1/0\n",
    "except ZeroDivisionError as ex:\n",
    "    print(ex)\n",
    "    print(\"Number divided by Zero is not defined \\nPlease enter the denominator greater than 0\")"
   ]
  },
  {
   "cell_type": "code",
   "execution_count": 16,
   "id": "b5ea6387",
   "metadata": {},
   "outputs": [],
   "source": [
    "## How can we customise the exception heheh\n",
    "\n",
    "try:\n",
    "    num=int(input(\"Enter a Number\"))\n",
    "    result=10/num\n",
    "except  ValueError:\n",
    "    print(\"Enter a valid Number please!\")\n",
    "except ZeroDivisionError:\n",
    "    print(\"Enter the denominater greater than zero\")\n",
    "except Exception as ex:\n",
    "    print(ex)\n",
    "\n",
    " ## print(int(result))\n"
   ]
  },
  {
   "cell_type": "code",
   "execution_count": 20,
   "id": "9fe92d7d",
   "metadata": {},
   "outputs": [
    {
     "name": "stdout",
     "output_type": "stream",
     "text": [
      "Enter a valid Number please!\n"
     ]
    }
   ],
   "source": [
    "## use try,except and else\n",
    "try:\n",
    "    num=int(input(\"Enter a Number\"))\n",
    "    result=10/num\n",
    "except  ValueError:\n",
    "    print(\"Enter a valid Number please!\")\n",
    "except ZeroDivisionError:\n",
    "    print(\"Enter the denominater greater than zero\")\n",
    "except Exception as ex:\n",
    "    print(ex)\n",
    "else:\n",
    "    print(result)\n"
   ]
  },
  {
   "cell_type": "code",
   "execution_count": 22,
   "id": "53aaf613",
   "metadata": {},
   "outputs": [
    {
     "name": "stdout",
     "output_type": "stream",
     "text": [
      "result is 2.0\n",
      "executing finally clause\n",
      "division by zero!\n",
      "executing finally clause\n",
      "executing finally clause\n"
     ]
    },
    {
     "ename": "TypeError",
     "evalue": "unsupported operand type(s) for /: 'str' and 'str'",
     "output_type": "error",
     "traceback": [
      "\u001b[31m---------------------------------------------------------------------------\u001b[39m",
      "\u001b[31mTypeError\u001b[39m                                 Traceback (most recent call last)",
      "\u001b[36mCell\u001b[39m\u001b[36m \u001b[39m\u001b[32mIn[22]\u001b[39m\u001b[32m, line 19\u001b[39m\n\u001b[32m     13\u001b[39m divide(\u001b[32m2\u001b[39m, \u001b[32m1\u001b[39m)\n\u001b[32m     16\u001b[39m divide(\u001b[32m2\u001b[39m, \u001b[32m0\u001b[39m)\n\u001b[32m---> \u001b[39m\u001b[32m19\u001b[39m \u001b[43mdivide\u001b[49m\u001b[43m(\u001b[49m\u001b[33;43m\"\u001b[39;49m\u001b[33;43m2\u001b[39;49m\u001b[33;43m\"\u001b[39;49m\u001b[43m,\u001b[49m\u001b[43m \u001b[49m\u001b[33;43m\"\u001b[39;49m\u001b[33;43m1\u001b[39;49m\u001b[33;43m\"\u001b[39;49m\u001b[43m)\u001b[49m\n\u001b[32m     20\u001b[39m \u001b[38;5;66;03m## Error--\u001b[39;00m\n",
      "\u001b[36mCell\u001b[39m\u001b[36m \u001b[39m\u001b[32mIn[22]\u001b[39m\u001b[32m, line 5\u001b[39m, in \u001b[36mdivide\u001b[39m\u001b[34m(x, y)\u001b[39m\n\u001b[32m      3\u001b[39m \u001b[38;5;28;01mdef\u001b[39;00m\u001b[38;5;250m \u001b[39m\u001b[34mdivide\u001b[39m(x, y):\n\u001b[32m      4\u001b[39m     \u001b[38;5;28;01mtry\u001b[39;00m:\n\u001b[32m----> \u001b[39m\u001b[32m5\u001b[39m         result = \u001b[43mx\u001b[49m\u001b[43m \u001b[49m\u001b[43m/\u001b[49m\u001b[43m \u001b[49m\u001b[43my\u001b[49m\n\u001b[32m      6\u001b[39m     \u001b[38;5;28;01mexcept\u001b[39;00m \u001b[38;5;167;01mZeroDivisionError\u001b[39;00m:\n\u001b[32m      7\u001b[39m         \u001b[38;5;28mprint\u001b[39m(\u001b[33m\"\u001b[39m\u001b[33mdivision by zero!\u001b[39m\u001b[33m\"\u001b[39m)\n",
      "\u001b[31mTypeError\u001b[39m: unsupported operand type(s) for /: 'str' and 'str'"
     ]
    }
   ],
   "source": [
    "## one more example to grind up\n",
    "## using try,except,else nd finally \n",
    "def divide(x, y):\n",
    "    try:\n",
    "        result = x / y\n",
    "    except ZeroDivisionError:\n",
    "        print(\"division by zero!\")\n",
    "    else:\n",
    "        print(\"result is\", result)\n",
    "    finally:\n",
    "        print(\"executing finally clause\")\n",
    "\n",
    "divide(2, 1)\n",
    "\n",
    "\n",
    "divide(2, 0)\n",
    "\n",
    "\n",
    "divide(\"2\", \"1\")\n",
    "## Error--\n"
   ]
  },
  {
   "cell_type": "code",
   "execution_count": 25,
   "id": "ba0d1da5",
   "metadata": {},
   "outputs": [
    {
     "name": "stdout",
     "output_type": "stream",
     "text": [
      "File Directory mein nhai hai bhaii !!!! \n",
      "Bna pehle file Lol\n"
     ]
    }
   ],
   "source": [
    "## File Handling and Exception Handling\n",
    "try:\n",
    "    file=open('example3.txt''r')\n",
    "    content=file.read()\n",
    "    print(content)\n",
    "except FileNotFoundError:\n",
    "    print(\"File Directory mein nhai hai bhaii !!!! \\nBna pehle file Lol\")\n",
    "except Exception as ex:\n",
    "    print(ex)\n",
    "finally:\n",
    "    if 'file' in locals() and not file.closed():\n",
    "     file.close()\n",
    "     print(\"Aap phir bhul ye file close krna meine kar diya hai close :)\")"
   ]
  }
 ],
 "metadata": {
  "kernelspec": {
   "display_name": "Python 3",
   "language": "python",
   "name": "python3"
  },
  "language_info": {
   "codemirror_mode": {
    "name": "ipython",
    "version": 3
   },
   "file_extension": ".py",
   "mimetype": "text/x-python",
   "name": "python",
   "nbconvert_exporter": "python",
   "pygments_lexer": "ipython3",
   "version": "3.12.0"
  }
 },
 "nbformat": 4,
 "nbformat_minor": 5
}
