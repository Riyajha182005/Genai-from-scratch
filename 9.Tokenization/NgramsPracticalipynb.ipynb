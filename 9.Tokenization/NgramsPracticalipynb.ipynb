{
  "nbformat": 4,
  "nbformat_minor": 0,
  "metadata": {
    "colab": {
      "provenance": [],
      "authorship_tag": "ABX9TyO366HGd880VRKiHPZA3agR",
      "include_colab_link": true
    },
    "kernelspec": {
      "name": "python3",
      "display_name": "Python 3"
    },
    "language_info": {
      "name": "python"
    }
  },
  "cells": [
    {
      "cell_type": "markdown",
      "metadata": {
        "id": "view-in-github",
        "colab_type": "text"
      },
      "source": [
        "<a href=\"https://colab.research.google.com/github/Riyajha182005/Genai-from-scratch/blob/main/9.Tokenization/NgramsPracticalipynb.ipynb\" target=\"_parent\"><img src=\"https://colab.research.google.com/assets/colab-badge.svg\" alt=\"Open In Colab\"/></a>"
      ]
    },
    {
      "cell_type": "markdown",
      "source": [
        "**Ngrams**\n",
        "\n",
        "\n",
        "Imagine you have a sentence, like \"The quick brown fox jumps over the lazy dog.\"\n",
        "\n",
        "An ngram is simply a contiguous sequence of items from a sample of text or speech. The \"items\" are usually words.\n",
        "\n",
        "Here's how it works with different values of \"n\":\n",
        "\n",
        "If n=1 (unigrams): You look at each word individually: \"The\", \"quick\", \"brown\", \"fox\", \"jumps\", \"over\", \"the\", \"lazy\", \"dog\".\n",
        "If n=2 (bigrams): You look at pairs of words that appear next to each other: \"The quick\", \"quick brown\", \"brown fox\", \"fox jumps\", \"jumps over\", \"over the\", \"the lazy\", \"lazy dog\".\n",
        "If n=3 (trigrams): You look at sequences of three words: \"The quick brown\", \"quick brown fox\", \"brown fox jumps\", and so on.\n",
        "So, an ngram is just a way to break down text into smaller, overlapping chunks of words.\n",
        "\n",
        "**Why is this useful?**\n",
        "\n",
        "Ngrams are used in many areas of natural language processing (NLP), such as:\n",
        "\n",
        "Predicting the next word: If you've seen \"quick brown\", what's the most likely next word? Ngrams can help predict this based on how often certain word sequences appear together.\n",
        "Spell checking and correction: If you type \"quik brown\", a spell checker might use bigrams to suggest \"quick brown\" because \"quick brown\" is a common bigram.\n",
        "Text generation: Ngrams can be used to generate new text by stringing together common word sequences.\n",
        "Topic modeling: Analyzing common ngrams can help identify the main topics in a document or set of documents.\n",
        "In simple terms, ngrams help computers understand and process language by looking at how words appear together in sequences. The larger the value of 'n', the more context you are considering."
      ],
      "metadata": {
        "id": "Z9iPLZlTWvAm"
      }
    },
    {
      "cell_type": "markdown",
      "source": [
        "*Let's explore it with hands on practice with example*\n"
      ],
      "metadata": {
        "id": "VR4gpvz1XIod"
      }
    },
    {
      "cell_type": "code",
      "source": [
        "import pandas as pd\n",
        "messages=pd.read_csv('spamhamdata.csv', sep='\\t',names=[\"label\",\"meassage\"])"
      ],
      "metadata": {
        "id": "JtkEfl4eXUqp"
      },
      "execution_count": 1,
      "outputs": []
    },
    {
      "cell_type": "code",
      "source": [
        "\n",
        "import re\n",
        "import nltk\n",
        "nltk.download('stopwords')"
      ],
      "metadata": {
        "colab": {
          "base_uri": "https://localhost:8080/"
        },
        "id": "KWHo0ZUaZuXd",
        "outputId": "ca853023-ffe6-4adf-e8e3-f8d9bd36dbac"
      },
      "execution_count": 2,
      "outputs": [
        {
          "output_type": "stream",
          "name": "stderr",
          "text": [
            "[nltk_data] Downloading package stopwords to /root/nltk_data...\n",
            "[nltk_data]   Unzipping corpora/stopwords.zip.\n"
          ]
        },
        {
          "output_type": "execute_result",
          "data": {
            "text/plain": [
              "True"
            ]
          },
          "metadata": {},
          "execution_count": 2
        }
      ]
    },
    {
      "cell_type": "code",
      "source": [
        "\n",
        "from nltk.corpus import stopwords\n",
        "from nltk.stem.porter import PorterStemmer\n",
        "ps=PorterStemmer()"
      ],
      "metadata": {
        "id": "YFa824D5Z9QI"
      },
      "execution_count": 3,
      "outputs": []
    },
    {
      "cell_type": "code",
      "source": [
        "corpus=[]\n",
        "for i in range(0,len(messages)):\n",
        "    review=re.sub('[^a-zA-Z]',' ',messages['meassage'][i])\n",
        "    review=review.lower()\n",
        "    review=review.split()\n",
        "    review=[ps.stem(word)for word in review if not word in stopwords.words('english')]\n",
        "    review=' '.join(review)\n",
        "    corpus.append(review)"
      ],
      "metadata": {
        "id": "qnLyd4gSaBbj"
      },
      "execution_count": 4,
      "outputs": []
    },
    {
      "cell_type": "code",
      "source": [
        "## Create the Bag of Words Model with n gram\n",
        "from sklearn.feature_extraction.text import CountVectorizer\n",
        "## for binary value ==true\n",
        "\n",
        "cv=CountVectorizer(max_features=100,binary=True,ngram_range=(3,3))"
      ],
      "metadata": {
        "id": "yI50lMMJaQMe"
      },
      "execution_count": 21,
      "outputs": []
    },
    {
      "cell_type": "code",
      "metadata": {
        "id": "30ddf9c3"
      },
      "source": [
        "X = cv.fit_transform(corpus).toarray()\n"
      ],
      "execution_count": 22,
      "outputs": []
    },
    {
      "cell_type": "code",
      "source": [
        "print(cv.vocabulary_)"
      ],
      "metadata": {
        "colab": {
          "base_uri": "https://localhost:8080/"
        },
        "id": "HDcqwi5cbepE",
        "outputId": "11c8e094-dd0b-46dd-846c-ef612b73e165"
      },
      "execution_count": 23,
      "outputs": [
        {
          "output_type": "stream",
          "name": "stdout",
          "text": [
            "{'like lt gt': np.int64(43), 'sorri call later': np.int64(79), 'pleas call custom': np.int64(65), 'call custom servic': np.int64(6), 'custom servic repres': np.int64(22), 'guarante cash prize': np.int64(35), 'draw show prize': np.int64(23), 'show prize guarante': np.int64(77), 'prize guarante call': np.int64(70), 'valid hr ppm': np.int64(96), 'special select receiv': np.int64(81), 'speak live oper': np.int64(80), 'live oper claim': np.int64(45), 'privat account statement': np.int64(68), 'account statement show': np.int64(0), 'call identifi code': np.int64(7), 'identifi code expir': np.int64(40), 'bonu caller prize': np.int64(4), 'select receiv award': np.int64(76), 'match pleas call': np.int64(54), 'urgent tri contact': np.int64(95), 'lt decim gt': np.int64(47), 'secret admir look': np.int64(75), 'admir look make': np.int64(1), 'look make contact': np.int64(46), 'make contact find': np.int64(53), 'contact find reveal': np.int64(19), 'find reveal think': np.int64(28), 'reveal think ur': np.int64(73), 'think ur special': np.int64(85), 'ur special call': np.int64(92), 'draw txt music': np.int64(24), 'www ldew com': np.int64(99), 'anytim network min': np.int64(2), 'camcord repli call': np.int64(12), 'cant pick phone': np.int64(13), 'pick phone right': np.int64(63), 'phone right pl': np.int64(62), 'right pl send': np.int64(74), 'pl send messag': np.int64(64), 'hg suit land': np.int64(37), 'suit land row': np.int64(84), 'land row hl': np.int64(42), 'call mobileupd call': np.int64(9), 'mobileupd call optout': np.int64(57), 'lt gt min': np.int64(49), 'free entri weekli': np.int64(29), 'urgent mobil number': np.int64(94), 'mobil number award': np.int64(56), 'guarante call land': np.int64(34), 'call land line': np.int64(8), 'land line claim': np.int64(41), 'line claim valid': np.int64(44), 'claim valid hr': np.int64(16), 'lt gt th': np.int64(51), 'lt gt lt': np.int64(48), 'gt lt gt': np.int64(33), 'caller prize nd': np.int64(11), 'prize nd attempt': np.int64(71), 'nd attempt contact': np.int64(58), 'ur worth discount': np.int64(93), 'worth discount voucher': np.int64(97), 'statement show un': np.int64(82), 'show un redeem': np.int64(78), 'un redeem point': np.int64(90), 'redeem point call': np.int64(72), 'point call identifi': np.int64(67), 'new video phone': np.int64(59), 'happi new year': np.int64(36), 'everi wk txt': np.int64(27), 'lt gt minut': np.int64(50), 'free st week': np.int64(30), 'nokia tone ur': np.int64(60), 'everi week txt': np.int64(26), 'get txting tell': np.int64(31), 'www getz co': np.int64(98), 'getz co uk': np.int64(32), 'co uk pobox': np.int64(17), 'uk pobox wq': np.int64(89), 'pobox wq norm': np.int64(66), 'holiday cash await': np.int64(39), 'cash await collect': np.int64(14), 'await collect sae': np.int64(3), 'collect sae cs': np.int64(18), 'stop text call': np.int64(83), 'tri contact today': np.int64(88), 'contact today draw': np.int64(20), 'today draw show': np.int64(86), 'tone ur mob': np.int64(87), 'ur mob everi': np.int64(91), 'mob everi week': np.int64(55), 'call per min': np.int64(10), 'per min ntt': np.int64(61), 'ltd po box': np.int64(52), 'bt nation rate': np.int64(5), 'prize claim easi': np.int64(69), 'claim easi call': np.int64(15), 'easi call per': np.int64(25), 'costa del sol': np.int64(21), 'holiday await collect': np.int64(38)}\n"
          ]
        }
      ]
    },
    {
      "cell_type": "code",
      "source": [
        "X"
      ],
      "metadata": {
        "colab": {
          "base_uri": "https://localhost:8080/"
        },
        "id": "OwhqJuVGdMI4",
        "outputId": "02689d26-a870-4da7-a218-a4c860ab5ec4"
      },
      "execution_count": 24,
      "outputs": [
        {
          "output_type": "execute_result",
          "data": {
            "text/plain": [
              "array([[0, 0, 0, ..., 0, 0, 0],\n",
              "       [0, 0, 0, ..., 0, 0, 0],\n",
              "       [0, 0, 0, ..., 0, 0, 0],\n",
              "       ...,\n",
              "       [0, 0, 0, ..., 0, 0, 0],\n",
              "       [0, 0, 0, ..., 0, 0, 0],\n",
              "       [0, 0, 0, ..., 0, 0, 0]])"
            ]
          },
          "metadata": {},
          "execution_count": 24
        }
      ]
    }
  ]
}