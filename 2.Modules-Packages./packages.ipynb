{
 "cells": [
  {
   "cell_type": "markdown",
   "id": "9d68d04f",
   "metadata": {},
   "source": [
    "Importing modules in python"
   ]
  },
  {
   "cell_type": "markdown",
   "id": "d617d7bc",
   "metadata": {},
   "source": [
    "In python, modules and packages help organize and reuse the code "
   ]
  },
  {
   "cell_type": "code",
   "execution_count": 1,
   "id": "2d632dcd",
   "metadata": {},
   "outputs": [
    {
     "data": {
      "text/plain": [
       "3.4641016151377544"
      ]
     },
     "execution_count": 1,
     "metadata": {},
     "output_type": "execute_result"
    }
   ],
   "source": [
    "## how to import a package \n",
    "import math\n",
    "math.sqrt(12)"
   ]
  },
  {
   "cell_type": "code",
   "execution_count": 6,
   "id": "1606bd33",
   "metadata": {},
   "outputs": [
    {
     "name": "stdout",
     "output_type": "stream",
     "text": [
      "4.0\n",
      "3.141592653589793\n"
     ]
    }
   ],
   "source": [
    "from math import sqrt,pi\n",
    "print(sqrt(16))\n",
    "print(pi)\n"
   ]
  },
  {
   "cell_type": "code",
   "execution_count": 5,
   "id": "07e31c4c",
   "metadata": {},
   "outputs": [
    {
     "data": {
      "text/plain": [
       "array([1, 2, 3, 4])"
      ]
     },
     "execution_count": 5,
     "metadata": {},
     "output_type": "execute_result"
    }
   ],
   "source": [
    "import numpy as np\n",
    "np.array([1,2,3,4])"
   ]
  },
  {
   "cell_type": "code",
   "execution_count": 9,
   "id": "7032ca68",
   "metadata": {},
   "outputs": [
    {
     "name": "stdout",
     "output_type": "stream",
     "text": [
      "9.0\n",
      "3.141592653589793\n"
     ]
    }
   ],
   "source": [
    "## use * for importing all the function available in package\n",
    "from math import *\n",
    "print(sqrt(81))\n",
    "print(pi)"
   ]
  },
  {
   "cell_type": "markdown",
   "id": "048dbc31",
   "metadata": {},
   "source": [
    "How can we create a custom package ?"
   ]
  },
  {
   "cell_type": "code",
   "execution_count": 14,
   "id": "e47640e2",
   "metadata": {},
   "outputs": [
    {
     "name": "stdout",
     "output_type": "stream",
     "text": [
      "72\n",
      "200\n"
     ]
    }
   ],
   "source": [
    "## first of all we have to \n",
    "# create a  folder let say package and create a file name __init__.py in same folder\n",
    "# create a file I cretaed times.py and define it \n",
    "\n",
    "## first way \n",
    "from package import times\n",
    "print(times.guna(8,9))\n",
    "\n",
    "## second way \n",
    "from package.times import guna\n",
    "print(guna(20,10))"
   ]
  }
 ],
 "metadata": {
  "kernelspec": {
   "display_name": "Python 3",
   "language": "python",
   "name": "python3"
  },
  "language_info": {
   "codemirror_mode": {
    "name": "ipython",
    "version": 3
   },
   "file_extension": ".py",
   "mimetype": "text/x-python",
   "name": "python",
   "nbconvert_exporter": "python",
   "pygments_lexer": "ipython3",
   "version": "3.12.0"
  }
 },
 "nbformat": 4,
 "nbformat_minor": 5
}
