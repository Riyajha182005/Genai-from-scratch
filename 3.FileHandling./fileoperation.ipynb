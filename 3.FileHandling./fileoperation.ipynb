{
 "cells": [
  {
   "cell_type": "markdown",
   "id": "f9b0eac5",
   "metadata": {},
   "source": [
    "File Handling is the cruicial part of any programming language .Python provides some built-in function & methods to read from and write to files,both text and binary"
   ]
  },
  {
   "cell_type": "code",
   "execution_count": 26,
   "id": "7cd30c23",
   "metadata": {},
   "outputs": [
    {
     "name": "stdout",
     "output_type": "stream",
     "text": [
      "First Line \n",
      "Second Line\n",
      "Third Line\n",
      "Four Line\n",
      "\n"
     ]
    }
   ],
   "source": [
    "## Read A Whole File \n",
    "with open('example.txt','r') as file:\n",
    "    content=file.read()\n",
    "    print(content)"
   ]
  },
  {
   "cell_type": "code",
   "execution_count": 14,
   "id": "e23e4397",
   "metadata": {},
   "outputs": [
    {
     "name": "stdout",
     "output_type": "stream",
     "text": [
      "Hello Everyone welcome to my page \n",
      "\n",
      "Hello Everyone welcome to my page\n",
      "How's ur journey going?\n",
      "\n",
      "How's ur journey going?\n",
      "I know we all are struggling and hustling but one day all of this is worth it trust me !!\n",
      "I know we all are struggling and hustling but one day all of this is worth it trust me !!\n"
     ]
    }
   ],
   "source": [
    "## Read a file line by line\n",
    "with open('example.txt','r') as file:\n",
    "    for line in file:\n",
    "        print(line) \n",
    "        print(line.strip())## this .strip opertaion removes the newline character"
   ]
  },
  {
   "cell_type": "code",
   "execution_count": 17,
   "id": "a4b3a3de",
   "metadata": {},
   "outputs": [],
   "source": [
    "## Write a file (overwriting)\n",
    "with open('example.txt','w') as file:\n",
    "    file.write('HELLO WORLD NEWBIE IS HERE IN THE TECH FIELD :)\\n')"
   ]
  },
  {
   "cell_type": "code",
   "execution_count": 20,
   "id": "ac173e48",
   "metadata": {},
   "outputs": [],
   "source": [
    "## writing a file without overwriting \n",
    "with open('example.txt','a') as file :\n",
    "    file.write('SO AS AS BEGFINNER IM EXCITED TO EXPLORE EVERYTHING IN THE TECH FIELD\\n')"
   ]
  },
  {
   "cell_type": "code",
   "execution_count": 21,
   "id": "f90bff2e",
   "metadata": {},
   "outputs": [],
   "source": [
    "## Write in a file line by line\n",
    "lines=['First Line \\n','Second Line\\n','Third Line\\n','Four Line\\n']\n",
    "with open('example.txt','w') as file:\n",
    "    file.writelines(lines)"
   ]
  },
  {
   "cell_type": "markdown",
   "id": "6d49cb4f",
   "metadata": {},
   "source": [
    "Binary Files"
   ]
  },
  {
   "cell_type": "markdown",
   "id": "ee1f962e",
   "metadata": {},
   "source": [
    "Binary files in Python are files that store data as a sequence of bytes, rather than human-readable text characters. This makes them suitable for storing various types of data such as images, audio, video, executable code, and serialized Python objects"
   ]
  },
  {
   "cell_type": "code",
   "execution_count": 25,
   "id": "1c3e6d3e",
   "metadata": {},
   "outputs": [],
   "source": [
    "## writing a binary file \n",
    "data=b'\\x00\\x01\\x02\\x03\\x04\\x05'\n",
    "with open('example1.bin','wb') as file:\n",
    "   file.write(data)"
   ]
  },
  {
   "cell_type": "code",
   "execution_count": 28,
   "id": "ec64ec04",
   "metadata": {},
   "outputs": [
    {
     "name": "stdout",
     "output_type": "stream",
     "text": [
      "b'\\x00\\x01\\x02\\x03\\x04\\x05'\n"
     ]
    }
   ],
   "source": [
    "## reading a binary file \n",
    "with open('example1.bin','rb') as file:\n",
    "    content=file.read()\n",
    "    print(content)"
   ]
  },
  {
   "cell_type": "code",
   "execution_count": 31,
   "id": "870ddf18",
   "metadata": {},
   "outputs": [],
   "source": [
    "## read a c content from source file to destination file \n",
    "with open('example.txt','r') as source_file:\n",
    "    content=source_file.read()\n",
    "    with open('destination.txt','w') as dest_file:\n",
    "     dest_file.write(content)"
   ]
  },
  {
   "cell_type": "code",
   "execution_count": 34,
   "id": "c7c74b3e",
   "metadata": {},
   "outputs": [
    {
     "name": "stdout",
     "output_type": "stream",
     "text": [
      "Lines:4,Words:8,Character:45\n"
     ]
    }
   ],
   "source": [
    "## Read a text file and count no lines ,word and characters \n",
    "def count_file(file_path):\n",
    "    with open(file_path,'r') as file:\n",
    "        lines=file.readlines()\n",
    "        line_count=len(lines)\n",
    "        words_count=sum(len(line.split()) for line in lines)\n",
    "        char_count=sum(len(line) for line in lines)\n",
    "    return line_count,words_count,char_count\n",
    "\n",
    "file_path='example.txt'\n",
    "lines,words,character= count_file(file_path)\n",
    "print(f'Lines:{lines},Words:{words},Character:{character}')"
   ]
  },
  {
   "cell_type": "markdown",
   "id": "be805a9a",
   "metadata": {},
   "source": [
    "In Python, w+ is a file mode used with the open() function for file handling. It signifies \"write and read\" mode."
   ]
  },
  {
   "cell_type": "code",
   "execution_count": null,
   "id": "0d0c482d",
   "metadata": {},
   "outputs": [
    {
     "name": "stdout",
     "output_type": "stream",
     "text": [
      "Hello world\n"
     ]
    }
   ],
   "source": [
    "## Writing and then reading a file\n",
    "with open('example.txt','w+') as file:\n",
    "    file.write('Hello world')\n",
    "  # content=file.read()\n",
    "  # print(content)\n",
    "\n",
    "    ## so we can clearly see nothing is to be printed here because cirsor is pointing to te end and \n",
    "    # and for this we have to use the built in function of file for moving the cursor\n",
    "    file.seek(0)\n",
    "\n",
    "    content=file.read()\n",
    "    print(content)\n"
   ]
  }
 ],
 "metadata": {
  "kernelspec": {
   "display_name": "Python 3",
   "language": "python",
   "name": "python3"
  },
  "language_info": {
   "codemirror_mode": {
    "name": "ipython",
    "version": 3
   },
   "file_extension": ".py",
   "mimetype": "text/x-python",
   "name": "python",
   "nbconvert_exporter": "python",
   "pygments_lexer": "ipython3",
   "version": "3.12.0"
  }
 },
 "nbformat": 4,
 "nbformat_minor": 5
}
